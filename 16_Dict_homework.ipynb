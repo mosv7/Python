{
 "cells": [
  {
   "cell_type": "markdown",
   "id": "f22814c2",
   "metadata": {},
   "source": [
    "# Medium To Hard"
   ]
  },
  {
   "cell_type": "code",
   "execution_count": null,
   "id": "91c26c2f",
   "metadata": {},
   "outputs": [
    {
     "name": "stdout",
     "output_type": "stream",
     "text": [
      "YIMNPW$)\n"
     ]
    }
   ],
   "source": [
    "from_str = 'abcdefghijklmnopqrstuvwxyz0123456789'\n",
    "to_str = 'YZIMNESTODUAPWXHQFBRJKCGVL!@#$%^&*()'\n",
    "\n",
    "dct = {from_str[idx]: to_str[idx] for idx in range(len(from_str))}\n",
    "\n",
    "string = input()\n",
    "res = ''\n",
    "\n",
    "for char in string:\n",
    "    if char in dct:\n",
    "        char = dct[char]\n",
    "    res += char\n",
    "\n",
    "print(res)"
   ]
  },
  {
   "cell_type": "code",
   "execution_count": 7,
   "id": "de211f02",
   "metadata": {},
   "outputs": [
    {
     "name": "stdout",
     "output_type": "stream",
     "text": [
      "[-4, 2, 5, 7, 9, 10, 'aly', 'most', 'ziad', 1.1, 2.5, 4.5, [0, 7, 8], [1, 5]]\n"
     ]
    }
   ],
   "source": [
    "def sort_difference_types(lst):\n",
    "    dict = {}\n",
    "    for item in lst:\n",
    "        dict.setdefault(type(item), []).append(item)\n",
    "    \n",
    "    #SyntaxError: iterable unpacking cannot be used in comprehension\n",
    "    #return [*sorted(lst) for lst in dict.values()]\n",
    "    lsts = [sorted(lst) for lst in dict.values()]\n",
    "    return [item for lst in lsts for item in lst]\n",
    "\n",
    "lst = [10, 'most', 2.5, 7, 'aly', 9, 4.5, 2, 'ziad', -4, 1.1, [1, 5], 5, [0, 7, 8]]\n",
    "print(sort_difference_types(lst))"
   ]
  },
  {
   "cell_type": "code",
   "execution_count": 11,
   "id": "36add246",
   "metadata": {},
   "outputs": [
    {
     "name": "stdout",
     "output_type": "stream",
     "text": [
      "H matches ['Hey', 'Hello', 'Hi']\n",
      "He matches ['Hey', 'Hello']\n",
      "Most matches ['Mostafa Saad']\n",
      "Not Found!\n"
     ]
    }
   ],
   "source": [
    "n = int(input())\n",
    "dct = {}\n",
    "while n:\n",
    "    line = input()\n",
    "    for idx in range(len(line)):\n",
    "        substr = line[:idx + 1]\n",
    "        dct.setdefault(substr, [])\n",
    "        dct[substr].append(line)\n",
    "    n -= 1\n",
    "\n",
    "q = int(input())\n",
    "\n",
    "while q:\n",
    "    line = input()\n",
    "\n",
    "    if line in dct:\n",
    "        print(f'{line} matches {dct[line]}')\n",
    "    else:\n",
    "        print('Not Found!')\n",
    "    q -= 1"
   ]
  },
  {
   "cell_type": "code",
   "execution_count": 13,
   "id": "620b0db5",
   "metadata": {},
   "outputs": [
    {
     "name": "stdout",
     "output_type": "stream",
     "text": [
      "[[7, 1], [2, 4], [5, 2]]\n"
     ]
    }
   ],
   "source": [
    "def filter_duplicates_preserve_order(lsts):\n",
    "    st = set()\n",
    "    ans = []\n",
    "\n",
    "    for lst in lsts:\n",
    "        tup = tuple(lst)\n",
    "        if tup not in st:\n",
    "            st.add(tup)\n",
    "            ans.append(lst)\n",
    "    return  ans\n",
    "\n",
    "print(filter_duplicates_preserve_order([[7, 1], [2, 4], [7, 1], [5, 2], [2, 4]]))"
   ]
  }
 ],
 "metadata": {
  "kernelspec": {
   "display_name": "Python 3",
   "language": "python",
   "name": "python3"
  },
  "language_info": {
   "codemirror_mode": {
    "name": "ipython",
    "version": 3
   },
   "file_extension": ".py",
   "mimetype": "text/x-python",
   "name": "python",
   "nbconvert_exporter": "python",
   "pygments_lexer": "ipython3",
   "version": "3.13.5"
  }
 },
 "nbformat": 4,
 "nbformat_minor": 5
}
