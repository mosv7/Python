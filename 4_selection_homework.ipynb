{
 "cells": [
  {
   "cell_type": "markdown",
   "id": "626b56a7",
   "metadata": {},
   "source": [
    "# Easy"
   ]
  },
  {
   "cell_type": "code",
   "execution_count": 4,
   "id": "e827a839",
   "metadata": {},
   "outputs": [
    {
     "name": "stdout",
     "output_type": "stream",
     "text": [
      "9\n"
     ]
    }
   ],
   "source": [
    "a, b = map(int, input().split())\n",
    "\n",
    "if a % 2 != 0 and b % 2 != 0:\n",
    "    print(a * b)\n",
    "elif a % 2 == 0 and b % 2 == 0:\n",
    "    print(a / b)\n",
    "elif a % 2 != 0 and b % 2 == 0:\n",
    "    print(a + b)\n",
    "else:\n",
    "    print(a - b)"
   ]
  },
  {
   "cell_type": "code",
   "execution_count": null,
   "id": "d8de9c0c",
   "metadata": {},
   "outputs": [
    {
     "name": "stdout",
     "output_type": "stream",
     "text": [
      "1 2 3\n"
     ]
    }
   ],
   "source": [
    "a, b, c = map(int, input().split())\n",
    "\n",
    "# 3 2 1\n",
    "if b < a:\n",
    "    a, b = b, a # 2 3 1\n",
    "\n",
    "if c < b:\n",
    "    c, b = b, c # 2 1 3\n",
    "\n",
    "if b < a:\n",
    "    b, a = a, b # 1 2 3\n",
    "\n",
    "print(a, b, c)"
   ]
  },
  {
   "cell_type": "code",
   "execution_count": null,
   "id": "73a16930",
   "metadata": {},
   "outputs": [
    {
     "name": "stdout",
     "output_type": "stream",
     "text": [
      "-1\n"
     ]
    }
   ],
   "source": [
    "a, b, c = map(int, input().split())\n",
    "\n",
    "res = -1\n",
    "if res < a < 100:\n",
    "    res = a\n",
    "\n",
    "if res < b < 100:\n",
    "    res = b\n",
    "\n",
    "if res < c < 100:\n",
    "    res = c\n",
    "\n",
    "print(res)"
   ]
  },
  {
   "cell_type": "code",
   "execution_count": null,
   "id": "060c65ac",
   "metadata": {},
   "outputs": [
    {
     "name": "stdout",
     "output_type": "stream",
     "text": [
      "30\n"
     ]
    }
   ],
   "source": [
    "a, b, c = map(int, input().split())\n",
    "\n",
    "if a >= 100 and b >= 100 and c >= 100:\n",
    "    res = -1\n",
    "else:\n",
    "    # First, find any valid value to initalize\n",
    "    if a < 100:\n",
    "        res = a\n",
    "    elif b < 100:\n",
    "        res = b\n",
    "    else:\n",
    "        res = c\n",
    "\n",
    "    if res < a < 100:\n",
    "        res = a\n",
    "\n",
    "    if res < b < 100:\n",
    "        res = b\n",
    "\n",
    "    if res < c < 100:\n",
    "        res = c\n",
    "\n",
    "print(res)"
   ]
  },
  {
   "cell_type": "code",
   "execution_count": null,
   "id": "dbe94e10",
   "metadata": {},
   "outputs": [
    {
     "name": "stdout",
     "output_type": "stream",
     "text": [
      "30\n"
     ]
    }
   ],
   "source": [
    "a, b, c = map(int, input().split())\n",
    "\n",
    "res = -1\n",
    "\n",
    "if res < a < 100:\n",
    "    res = a\n",
    "\n",
    "if res < b < 100:\n",
    "    res = b\n",
    "\n",
    "if res < c < 100:\n",
    "    res = c\n",
    "    \n",
    "\n",
    "print(res)"
   ]
  },
  {
   "cell_type": "code",
   "execution_count": 17,
   "id": "ef846d97",
   "metadata": {},
   "outputs": [
    {
     "name": "stdout",
     "output_type": "stream",
     "text": [
      "-10\n"
     ]
    }
   ],
   "source": [
    "a, b, c = map(int, input().split())\n",
    "\n",
    "if a >= 100 and b >= 100 and c >= 100:\n",
    "    res = -1\n",
    "else:\n",
    "    if res < a < 100:\n",
    "        res = a\n",
    "    elif res < b < 100:\n",
    "        res = b\n",
    "    else:\n",
    "        res = c\n",
    "\n",
    "    if res < a < 100:\n",
    "        res = a\n",
    "\n",
    "    if res < b < 100:\n",
    "        res = b\n",
    "\n",
    "    if res < c < 100:\n",
    "        res = c\n",
    "print(res)\n",
    "    "
   ]
  },
  {
   "cell_type": "code",
   "execution_count": null,
   "id": "0711fcd9",
   "metadata": {},
   "outputs": [
    {
     "name": "stdout",
     "output_type": "stream",
     "text": [
      "2 3\n"
     ]
    }
   ],
   "source": [
    "x, a1, a2, a3, a4, a5 = map(float, input().split())\n",
    "count_higher = 0\n",
    "count_lower = 0\n",
    "\n",
    "if a1 <= x:\n",
    "    count_lower += 1\n",
    "else:\n",
    "    count_higher += 1\n",
    "\n",
    "if a2 <= x:\n",
    "    count_lower += 1\n",
    "else:\n",
    "    count_higher += 1\n",
    "\n",
    "if a3 <= x:\n",
    "    count_lower += 1\n",
    "else:\n",
    "    count_higher += 1\n",
    "\n",
    "if a4 <= x:\n",
    "    count_lower += 1\n",
    "else:\n",
    "    count_higher += 1\n",
    "\n",
    "if a5 <= x:\n",
    "    count_lower += 1\n",
    "else:\n",
    "    count_higher += 1\n",
    "\n",
    "print(count_lower, count_higher)\n"
   ]
  },
  {
   "cell_type": "code",
   "execution_count": null,
   "id": "9aea9e40",
   "metadata": {},
   "outputs": [],
   "source": [
    "x, a1, a2, a3, a4, a5 = map(float, input().split())\n",
    "cnt = 0\n",
    "\n",
    "cnt += x <= a1\n",
    "cnt += x <= a2\n",
    "cnt += x <= a3\n",
    "cnt += x <= a4\n",
    "cnt += x <= a5\n",
    "\n",
    "print(cnt, 5 - cnt)"
   ]
  },
  {
   "cell_type": "markdown",
   "id": "3c8ac938",
   "metadata": {},
   "source": [
    "# Medium"
   ]
  },
  {
   "cell_type": "code",
   "execution_count": 21,
   "id": "8bb47a78",
   "metadata": {},
   "outputs": [
    {
     "name": "stdout",
     "output_type": "stream",
     "text": [
      "129.0\n"
     ]
    }
   ],
   "source": [
    "res = float(input())\n",
    "a = float(input())\n",
    "\n",
    "if res < a:\n",
    "    res = a\n",
    "\n",
    "a = float(input())\n",
    "if res < a:\n",
    "    res = a\n",
    "\n",
    "a = float(input())\n",
    "if res < a:\n",
    "    res = a\n",
    "\n",
    "a = float(input())\n",
    "if res < a:\n",
    "    res = a\n",
    "\n",
    "a = float(input())\n",
    "if res < a:\n",
    "    res = a\n",
    "\n",
    "a = float(input())\n",
    "if res < a:\n",
    "    res = a\n",
    "\n",
    "a = float(input())\n",
    "if res < a:\n",
    "    res = a\n",
    "\n",
    "a = float(input())\n",
    "if res < a:\n",
    "    res = a\n",
    "\n",
    "a = float(input())\n",
    "if res < a:\n",
    "    res = a\n",
    "\n",
    "print(res)"
   ]
  },
  {
   "cell_type": "code",
   "execution_count": 23,
   "id": "f20510f8",
   "metadata": {},
   "outputs": [
    {
     "name": "stdout",
     "output_type": "stream",
     "text": [
      "4.5\n"
     ]
    }
   ],
   "source": [
    "n = int(input())\n",
    "\n",
    "res = float(input())\n",
    "n -= 1\n",
    "\n",
    "if n > 0:\n",
    "    num = float(input())\n",
    "    n -= 1\n",
    "\n",
    "    if num > res:\n",
    "        res = num\n",
    "if n > 0:\n",
    "    num = float(input())\n",
    "    n -= 1\n",
    "\n",
    "    if num > res:\n",
    "        res = num\n",
    "if n > 0:\n",
    "    num = float(input())\n",
    "    n -= 1\n",
    "\n",
    "    if num > res:\n",
    "        res = num\n",
    "if n > 0:\n",
    "    num = float(input())\n",
    "    n -= 1\n",
    "\n",
    "    if num > res:\n",
    "        res = num\n",
    "if n > 0:\n",
    "    num = float(input())\n",
    "    n -= 1\n",
    "\n",
    "    if num > res:\n",
    "        res = num\n",
    "if n > 0:\n",
    "    num = float(input())\n",
    "    n -= 1\n",
    "\n",
    "    if num > res:\n",
    "        res = num\n",
    "if n > 0:\n",
    "    num = float(input())\n",
    "    n -= 1\n",
    "\n",
    "    if num > res:\n",
    "        res = num\n",
    "if n > 0:\n",
    "    num = float(input())\n",
    "    n -= 1\n",
    "\n",
    "    if num > res:\n",
    "        res = num\n",
    "if n > 0:\n",
    "    num = float(input())\n",
    "    n -= 1\n",
    "\n",
    "    if num > res:\n",
    "        res = num\n",
    "print(res)"
   ]
  },
  {
   "cell_type": "markdown",
   "id": "ba90b68c",
   "metadata": {},
   "source": [
    "# Hard"
   ]
  },
  {
   "cell_type": "code",
   "execution_count": null,
   "id": "1c0ea2b2",
   "metadata": {},
   "outputs": [
    {
     "name": "stdout",
     "output_type": "stream",
     "text": [
      "0\n"
     ]
    }
   ],
   "source": [
    "x = int(input())\n",
    "s1, e1, s2, e2, s3, e3 = map(int, input().split())\n",
    "cnt = 0\n",
    "\n",
    "if s1 <= x <= e1:\n",
    "    cnt += 1\n",
    "\n",
    "if s2 <= x <= e2:\n",
    "    cnt += 1\n",
    "\n",
    "if s3 <= x <= e3:\n",
    "    cnt += 1\n",
    "\n",
    "print(cnt)\n"
   ]
  },
  {
   "cell_type": "code",
   "execution_count": 29,
   "id": "c897b6ff",
   "metadata": {},
   "outputs": [
    {
     "name": "stdout",
     "output_type": "stream",
     "text": [
      "2\n"
     ]
    }
   ],
   "source": [
    "x, s1, e1, s2, e2, s3, e3 = map(int, input().split())\n",
    "cnt = 0\n",
    "\n",
    "cnt += s1 <= x <= e1\n",
    "cnt += s2 <= x <= e2\n",
    "cnt += s3 <= x <= e3\n",
    "\n",
    "print(cnt)"
   ]
  },
  {
   "cell_type": "code",
   "execution_count": 36,
   "id": "10f4c850",
   "metadata": {},
   "outputs": [
    {
     "name": "stdout",
     "output_type": "stream",
     "text": [
      "3 6\n"
     ]
    }
   ],
   "source": [
    "s1, e1, s2, e2 = map(int, input().split())\n",
    "\n",
    "if e1 < s2 or e2 < s1:\n",
    "    print(-1)\n",
    "else:\n",
    "    if s1 < s2:\n",
    "        s1 = s2\n",
    "    \n",
    "    if e1 > e2:\n",
    "        e1 = e2\n",
    "    print(s1, e1)"
   ]
  }
 ],
 "metadata": {
  "kernelspec": {
   "display_name": "Python 3",
   "language": "python",
   "name": "python3"
  },
  "language_info": {
   "codemirror_mode": {
    "name": "ipython",
    "version": 3
   },
   "file_extension": ".py",
   "mimetype": "text/x-python",
   "name": "python",
   "nbconvert_exporter": "python",
   "pygments_lexer": "ipython3",
   "version": "3.13.5"
  }
 },
 "nbformat": 4,
 "nbformat_minor": 5
}
