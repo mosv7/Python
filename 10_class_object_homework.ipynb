{
 "cells": [
  {
   "cell_type": "markdown",
   "id": "167123db",
   "metadata": {},
   "source": [
    "# Easy"
   ]
  },
  {
   "cell_type": "code",
   "execution_count": 1,
   "id": "c7616150",
   "metadata": {},
   "outputs": [],
   "source": [
    "class Rectangle:\n",
    "    def __init__(self, width, height):\n",
    "        self.width = width\n",
    "        self.height = height\n",
    "\n",
    "    def area(self):\n",
    "        return self.width * self.height"
   ]
  },
  {
   "cell_type": "code",
   "execution_count": 2,
   "id": "6e2cc384",
   "metadata": {},
   "outputs": [],
   "source": [
    "class Circle:\n",
    "    def __init__(self, radius):\n",
    "        self.radius = radius\n",
    "        self.PI = 3.14\n",
    "    \n",
    "    def area(self):\n",
    "        return self.PI * (self.radius ** 2)"
   ]
  },
  {
   "cell_type": "code",
   "execution_count": 3,
   "id": "dcb6fd15",
   "metadata": {},
   "outputs": [
    {
     "name": "stdout",
     "output_type": "stream",
     "text": [
      "Rectangle area: 10\n",
      "Circle area: 78.5\n"
     ]
    }
   ],
   "source": [
    "rectangle = Rectangle(2, 5)\n",
    "print(\"Rectangle area:\", rectangle.area())\n",
    "\n",
    "circle = Circle(5)\n",
    "print(\"Circle area:\", circle.area())"
   ]
  },
  {
   "cell_type": "code",
   "execution_count": 13,
   "id": "d30b5db6",
   "metadata": {},
   "outputs": [],
   "source": [
    "class Editor:\n",
    "    def __init__(self):\n",
    "        self.rectangle = None\n",
    "        self.circle = None\n",
    "    \n",
    "    def create_rectangle(self, width, height):\n",
    "        self.rectangle = Rectangle(width, height)\n",
    "    \n",
    "    def create_circle(self, radius):\n",
    "        self.circle = Circle(radius)\n",
    "    \n",
    "    def change_rectangle(self, factor):\n",
    "        if self.rectangle:\n",
    "            self.rectangle.width += factor\n",
    "            self.rectangle.height += factor\n",
    "            \n",
    "    def change_circle(self, factor):\n",
    "        if self.circle:\n",
    "            self.circle.radius += factor\n",
    "    \n",
    "    def change(self, factor):\n",
    "        self.change_rectangle(factor)\n",
    "        self.change_circle(factor)\n",
    "    \n",
    "    def print(self):\n",
    "        if self.rectangle:\n",
    "            print(\"Rectangle area:\", self.rectangle.area())\n",
    "        if self.circle:\n",
    "            print(\"Circle area:\", self.circle.area())"
   ]
  },
  {
   "cell_type": "code",
   "execution_count": 21,
   "id": "b17bf32a",
   "metadata": {},
   "outputs": [
    {
     "name": "stdout",
     "output_type": "stream",
     "text": [
      "Rectangle area: 15\n",
      "Rectangle area: 35\n",
      "Circle area: 153.86\n"
     ]
    }
   ],
   "source": [
    "editor = Editor()\n",
    "editor.print()\n",
    "editor.create_rectangle(3, 5)\n",
    "editor.print()\n",
    "editor.create_circle(5)\n",
    "editor.change(2)\n",
    "editor.print()"
   ]
  },
  {
   "cell_type": "markdown",
   "id": "d416e135",
   "metadata": {},
   "source": [
    "# Medium To Hard"
   ]
  },
  {
   "cell_type": "code",
   "execution_count": 26,
   "id": "1674cd72",
   "metadata": {},
   "outputs": [],
   "source": [
    "class MyRange:\n",
    "    def __init__(self, start, end, step = 1):\n",
    "        self.cur = start\n",
    "        self.end = end\n",
    "        self.start = start\n",
    "        self.step = step\n",
    "    \n",
    "    def has_next(self):\n",
    "        return self.cur < self.end\n",
    "    \n",
    "    def next(self):\n",
    "        current = self.cur\n",
    "        self.cur += self.step\n",
    "        return current"
   ]
  },
  {
   "cell_type": "code",
   "execution_count": 27,
   "id": "4e29dc30",
   "metadata": {},
   "outputs": [
    {
     "name": "stdout",
     "output_type": "stream",
     "text": [
      "5 6 7 8 9 \n",
      "5 7 9 "
     ]
    }
   ],
   "source": [
    "rng = MyRange(5, 10, 1)\n",
    "\n",
    "while rng.has_next():\n",
    "    print(rng.next(), end= ' ')\n",
    "\n",
    "print()\n",
    "\n",
    "rng = MyRange(5, 10, 2)\n",
    "while rng.has_next():\n",
    "    print(rng.next(), end= ' ')"
   ]
  },
  {
   "cell_type": "markdown",
   "id": "4f2eb516",
   "metadata": {},
   "source": [
    "# Extend the range class"
   ]
  },
  {
   "cell_type": "code",
   "execution_count": 28,
   "id": "1a306fe8",
   "metadata": {},
   "outputs": [],
   "source": [
    "class MyRange:\n",
    "    def __init__(self, start, end, step = 1):\n",
    "        self.cur = start\n",
    "        self.end = end\n",
    "        self.step = step\n",
    "        self.start = start\n",
    "        self.idx = 0\n",
    "    \n",
    "    def has_next(self):\n",
    "        if self.step == 0:\n",
    "            return\n",
    "        elif self.step >= 1:\n",
    "            return self.cur < self.end\n",
    "        return self.cur > self.end\n",
    "    \n",
    "    def next(self):\n",
    "        current = self.cur, self.idx\n",
    "        self.cur += self.step\n",
    "        self.idx += 1\n",
    "        return current"
   ]
  },
  {
   "cell_type": "code",
   "execution_count": 32,
   "id": "0cbfcba2",
   "metadata": {},
   "outputs": [
    {
     "name": "stdout",
     "output_type": "stream",
     "text": [
      "(10, 0)\n",
      "(9, 1)\n",
      "(8, 2)\n",
      "(7, 3)\n",
      "(6, 4)\n"
     ]
    }
   ],
   "source": [
    "rng = MyRange(10, 5, -1)\n",
    "\n",
    "while rng.has_next():\n",
    "    print(rng.next())"
   ]
  }
 ],
 "metadata": {
  "kernelspec": {
   "display_name": "Python 3",
   "language": "python",
   "name": "python3"
  },
  "language_info": {
   "codemirror_mode": {
    "name": "ipython",
    "version": 3
   },
   "file_extension": ".py",
   "mimetype": "text/x-python",
   "name": "python",
   "nbconvert_exporter": "python",
   "pygments_lexer": "ipython3",
   "version": "3.13.5"
  }
 },
 "nbformat": 4,
 "nbformat_minor": 5
}
