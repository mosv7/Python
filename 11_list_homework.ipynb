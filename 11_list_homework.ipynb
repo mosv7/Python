{
 "cells": [
  {
   "cell_type": "markdown",
   "id": "6899f8dc",
   "metadata": {},
   "source": [
    "# Easy To Medium"
   ]
  },
  {
   "cell_type": "code",
   "execution_count": 3,
   "id": "378e07d3",
   "metadata": {},
   "outputs": [
    {
     "name": "stdout",
     "output_type": "stream",
     "text": [
      "True\n"
     ]
    }
   ],
   "source": [
    "def is_increasing(lst):\n",
    "    for i in range(len(lst) - 1):\n",
    "        if lst[i] > lst[i + 1]:\n",
    "            return False\n",
    "    return True\n",
    "\n",
    "sublist = [-10, 10]\n",
    "print(is_increasing(sublist))"
   ]
  },
  {
   "cell_type": "code",
   "execution_count": 4,
   "id": "12e7e60d",
   "metadata": {},
   "outputs": [
    {
     "name": "stdout",
     "output_type": "stream",
     "text": [
      "True\n"
     ]
    }
   ],
   "source": [
    "def is_increasing(lst):\n",
    "    return all(lst[i] <= lst[i + 1] for i in range(len(lst) - 1))\n",
    "\n",
    "sublist = [-10, 10]\n",
    "print(is_increasing(sublist))"
   ]
  },
  {
   "cell_type": "code",
   "execution_count": 5,
   "id": "78f317fa",
   "metadata": {},
   "outputs": [
    {
     "name": "stdout",
     "output_type": "stream",
     "text": [
      "[4, 10, 3, 1, 8, 1, 1]\n"
     ]
    }
   ],
   "source": [
    "def replace_min_max_inplace(lst):\n",
    "    if not lst:\n",
    "        return\n",
    "    mn = min(lst)\n",
    "    mx = max(lst)\n",
    "    for idx in range(len(lst)):\n",
    "        if lst[idx] == mn:\n",
    "            lst[idx] = mx\n",
    "        elif lst[idx] == mx:\n",
    "            lst[idx] = mn\n",
    "\n",
    "lst = [4, 1, 3, 10, 8, 10, 10]\n",
    "replace_min_max_inplace(lst)\n",
    "print(lst)"
   ]
  },
  {
   "cell_type": "code",
   "execution_count": 6,
   "id": "917497cf",
   "metadata": {},
   "outputs": [
    {
     "name": "stdout",
     "output_type": "stream",
     "text": [
      "Query 7 answer 4\n",
      "Query 9 answer -1\n",
      "Query 2 answer 1\n"
     ]
    }
   ],
   "source": [
    "def search_for_number(lst, lst2):\n",
    "    for i in range(len(lst2)):\n",
    "        idx = -1\n",
    "        for j in range(len(lst)):\n",
    "            if lst2[i] == lst[j]:\n",
    "                idx = j\n",
    "        if idx:\n",
    "            print(f'Query {lst2[i]} answer {idx}')\n",
    "\n",
    "lst = [1, 2, 7, 3, 7]\n",
    "main_list = [7, 9, 2]\n",
    "search_for_number(lst, main_list)"
   ]
  },
  {
   "cell_type": "code",
   "execution_count": 7,
   "id": "ec7fa8ed",
   "metadata": {},
   "outputs": [],
   "source": [
    "if __name__ == \"__main__\":\n",
    "    lst = list(map(int, input().split()))\n",
    "    query = list(map(int, input().split()))\n",
    "    \n",
    "    lst.reverse()\n",
    "    \n",
    "    for q in query:\n",
    "        idx = -1\n",
    "        if q in lst:\n",
    "            idx = lst.index(q)\n",
    "            idx = len(lst) - 1 - idx\n",
    "        print('Query', q, 'answer', idx)"
   ]
  },
  {
   "cell_type": "code",
   "execution_count": 8,
   "id": "b798811b",
   "metadata": {},
   "outputs": [
    {
     "name": "stdout",
     "output_type": "stream",
     "text": [
      "[1, 2, 3, 4]\n"
     ]
    }
   ],
   "source": [
    "def unique_numbers_of_unordered(lst):\n",
    "    unique_numbers = []\n",
    "\n",
    "    for number in lst:\n",
    "        if number not in unique_numbers:\n",
    "            unique_numbers.append(number)\n",
    "    return unique_numbers\n",
    "\n",
    "lst = [1, 2, 3, 2, 1, 4]\n",
    "print(unique_numbers_of_unordered(lst))"
   ]
  },
  {
   "cell_type": "code",
   "execution_count": 9,
   "id": "7d2524bc",
   "metadata": {},
   "outputs": [
    {
     "name": "stdout",
     "output_type": "stream",
     "text": [
      "[1, 2, 5, 6, 7, 8, 9]\n"
     ]
    }
   ],
   "source": [
    "def unique_numbers_of_ordered(lst):\n",
    "    unique_numbers = []\n",
    "\n",
    "    for idx, value in enumerate(lst):\n",
    "        if idx == 0 or value != lst[idx -1]:\n",
    "            unique_numbers.append(value)\n",
    "    return unique_numbers\n",
    "\n",
    "lst = [1, 1, 2, 2, 2, 5, 6, 6, 7, 8, 9, 9]\n",
    "print(unique_numbers_of_ordered(lst))"
   ]
  },
  {
   "cell_type": "code",
   "execution_count": 10,
   "id": "bf0f58a0",
   "metadata": {},
   "outputs": [
    {
     "name": "stdout",
     "output_type": "stream",
     "text": [
      "7\n"
     ]
    }
   ],
   "source": [
    "def smalles_pair(lst):\n",
    "    smallest = float('inf')\n",
    "\n",
    "    for i in range(len(lst)):\n",
    "        for j in range(i + 1, len(lst) - 1):\n",
    "            if lst[i] + lst[j] + j - i > lst[i + 1] + lst[j + 1] + (j + 1) - (i + 1):\n",
    "                smallest = lst[i + 1] + lst[j + 1] + (j + 1) - (i + 1)\n",
    "    return smallest\n",
    "\n",
    "lst = [20, 1, 9, 4]\n",
    "print(smalles_pair(lst))"
   ]
  },
  {
   "cell_type": "code",
   "execution_count": 11,
   "id": "dbc8e165",
   "metadata": {},
   "outputs": [
    {
     "name": "stdout",
     "output_type": "stream",
     "text": [
      "7\n"
     ]
    }
   ],
   "source": [
    "def smallest_pair(lst):\n",
    "    if lst < 2:\n",
    "        return None\n",
    "\n",
    "    min_val = float('inf')\n",
    "    min_result = float('inf')\n",
    "\n",
    "    for j in range(1, len(lst)):\n",
    "        min_val = min(min_val, lst[j - 1])\n",
    "        min_result = min(min_result, min_val + lst[j] + j)\n",
    "    return min_result\n",
    "\n",
    "lst = [20, 1, 9, 4]\n",
    "print(smalles_pair(lst))"
   ]
  },
  {
   "cell_type": "code",
   "execution_count": 12,
   "id": "1c20beeb",
   "metadata": {},
   "outputs": [],
   "source": [
    "def min_3_values(lst):\n",
    "    min1 = min2 = min3 = float('inf')\n",
    "\n",
    "    for i in range(len(lst)):\n",
    "        if lst[i] < min1:\n",
    "            min3 = min2\n",
    "            min2 = min1\n",
    "            min1 = lst[i]\n",
    "        elif lst[i] < min2:\n",
    "            min3 = min2\n",
    "            min2 = lst[i]\n",
    "        elif lst[i] < min3:\n",
    "            min3 = lst[i]\n",
    "    return min1, min2, min3\n",
    "\n",
    "assert min_3_values([4, 1, 3, 10, 8]) == (1, 3, 4)\n",
    "assert min_3_values([7, 9, -2]) == (-2, 7, 9)\n"
   ]
  },
  {
   "cell_type": "code",
   "execution_count": 13,
   "id": "5a79f11d",
   "metadata": {},
   "outputs": [
    {
     "name": "stdout",
     "output_type": "stream",
     "text": [
      "[1, 4, 9, 20]\n"
     ]
    }
   ],
   "source": [
    "lst.sort()\n",
    "print(lst)"
   ]
  },
  {
   "cell_type": "code",
   "execution_count": 14,
   "id": "92c6a24a",
   "metadata": {},
   "outputs": [
    {
     "name": "stdout",
     "output_type": "stream",
     "text": [
      "[1, 3, 4]\n",
      "[-2, 7, 9]\n",
      "[-5, 1]\n"
     ]
    }
   ],
   "source": [
    "def find_3_min(lst):\n",
    "    mn_list = []\n",
    "    for i in lst:\n",
    "        mn_list.append(i)\n",
    "        if len(mn_list) > 3:\n",
    "            mn_list.sort()\n",
    "            mn_list.pop()\n",
    "    mn_list.sort()\n",
    "    return mn_list\n",
    "\n",
    "lst = [4, 1, 3, 10, 8]\n",
    "main_list = [7, 9, -2]\n",
    "lst3 = [1, -5]\n",
    "print(find_3_min(lst))\n",
    "print(find_3_min(main_list))\n",
    "print(find_3_min(lst3))"
   ]
  },
  {
   "cell_type": "markdown",
   "id": "bbfd3a39",
   "metadata": {},
   "source": [
    "# Medium To Hard"
   ]
  },
  {
   "cell_type": "code",
   "execution_count": 15,
   "id": "beb4c9a3",
   "metadata": {},
   "outputs": [
    {
     "name": "stdout",
     "output_type": "stream",
     "text": [
      "Value -500 repeated 4 times\n"
     ]
    }
   ],
   "source": [
    "def most_frequent_number(lst):\n",
    "    freq_arr = [0] * 771\n",
    "    for value in lst:\n",
    "        freq_arr[value] += 1\n",
    "    idx = freq_arr.index(max(freq_arr))\n",
    "    if idx > 270:\n",
    "        idx -= 771\n",
    "    return f'Value {idx} repeated {max(freq_arr)} times'\n",
    "\n",
    "\n",
    "lst = [-1, 2, -1, 3, -1, 5, 5, -9, -9, -9, 2, -500, -500, -500, -500]\n",
    "\n",
    "print(most_frequent_number(lst))\n"
   ]
  },
  {
   "cell_type": "code",
   "execution_count": 16,
   "id": "5e20e3f0",
   "metadata": {},
   "outputs": [
    {
     "name": "stdout",
     "output_type": "stream",
     "text": [
      "0 3\n",
      "1 5\n",
      "2 2\n",
      "3 2\n",
      "4 1\n",
      "5 1\n",
      "6 1\n",
      "7 1\n",
      "8 1\n",
      "9 1\n"
     ]
    }
   ],
   "source": [
    "def digits_frequency(lst):\n",
    "    freq_arr = [0] * 10\n",
    "    lst = [abs(num) for num in lst]  # Handle negative numbers\n",
    "    for num in lst:\n",
    "        while num > 0:\n",
    "            freq_arr[num % 10] += 1\n",
    "            num //= 10\n",
    "    return freq_arr\n",
    "\n",
    "lst = [123, 456, 789, 101112, -300]\n",
    "for idx, vlaue in enumerate(digits_frequency(lst)):\n",
    "    print(idx, vlaue)\n"
   ]
  },
  {
   "cell_type": "code",
   "execution_count": 17,
   "id": "faa165b7",
   "metadata": {},
   "outputs": [
    {
     "name": "stdout",
     "output_type": "stream",
     "text": [
      "0 3\n",
      "1 5\n",
      "2 2\n",
      "3 2\n",
      "4 1\n",
      "5 1\n",
      "6 1\n",
      "7 1\n",
      "8 1\n",
      "9 1\n"
     ]
    }
   ],
   "source": [
    "def digits_frequency(lst):\n",
    "    freq = [0] * 10\n",
    "\n",
    "    for value in lst:\n",
    "        string = str(abs(value))\n",
    "        for char in string:\n",
    "            freq[int(char)] += 1\n",
    "    return freq\n",
    "\n",
    "lst = [123, 456, 789, 101112, -300]\n",
    "for idx, value in enumerate(digits_frequency(lst)):\n",
    "    print(idx, value)"
   ]
  },
  {
   "cell_type": "code",
   "execution_count": 18,
   "id": "f191517e",
   "metadata": {},
   "outputs": [],
   "source": [
    "def is_subsequence(lst1, lst2):\n",
    "    last_idx = -1\n",
    "    for item in lst2:\n",
    "        found = False\n",
    "        for parent_idx in range(last_idx + 1, len(lst1)):\n",
    "            if item == lst1[parent_idx]:\n",
    "                last_idx = parent_idx\n",
    "                found = True\n",
    "                break\n",
    "        if not found:\n",
    "            return False\n",
    "    return True\n",
    "\n",
    "assert is_subsequence([1, 2, 3, 4], [1, 4]) == True\n",
    "assert is_subsequence([1, 2, 3, 4], [4, 1]) == False"
   ]
  },
  {
   "cell_type": "code",
   "execution_count": 19,
   "id": "cb6048c2",
   "metadata": {},
   "outputs": [
    {
     "name": "stdout",
     "output_type": "stream",
     "text": [
      "True\n"
     ]
    }
   ],
   "source": [
    "def is_subsequence(lst1, lst2):\n",
    "    idx = -1\n",
    "\n",
    "    for i in range(len(lst2)):\n",
    "        for j in range(len(lst1)):\n",
    "            if lst2[i] == lst1[j]:\n",
    "                if j < idx:\n",
    "                    return False\n",
    "                else:\n",
    "                    idx = j\n",
    "    return True\n",
    "\n",
    "\n",
    "\n",
    "sublist = [1, 2, 3, 4]\n",
    "main_list = [1, 4]\n",
    "print(is_subsequence(sublist, main_list))"
   ]
  },
  {
   "cell_type": "code",
   "execution_count": 20,
   "id": "a45650fa",
   "metadata": {},
   "outputs": [],
   "source": [
    "def is_subsequence(lst1, lst2):\n",
    "    if len(lst2) == 0:\n",
    "        return True\n",
    "    \n",
    "    sub_idx = 0 \n",
    "    for item in lst1:\n",
    "        if item == lst2[sub_idx]:\n",
    "            sub_idx += 1\n",
    "            if sub_idx == len(lst2):\n",
    "                return True\n",
    "    return False\n",
    "\n",
    "assert is_subsequence([1, 2, 3, 4], [1, 4]) == True\n",
    "assert is_subsequence([1, 2, 3, 4], [4, 1]) == False"
   ]
  },
  {
   "cell_type": "code",
   "execution_count": 21,
   "id": "966fa1e8",
   "metadata": {},
   "outputs": [
    {
     "name": "stdout",
     "output_type": "stream",
     "text": [
      "0\n",
      "1\n",
      "3\n",
      "0\n",
      "4\n"
     ]
    }
   ],
   "source": [
    "def recman(n):\n",
    "    if n == 0:\n",
    "        return 0\n",
    "\n",
    "    last_val, seen = 0, [False] * n * 10\n",
    "\n",
    "    for i in range(1, n + 1):\n",
    "        val = last_val - (i - 1) - 1\n",
    "\n",
    "        if val < 0 or seen[val]:\n",
    "            val = last_val + (i - 1) + 1\n",
    "\n",
    "        seen[val], last_val = True, val\n",
    "\n",
    "    return last_val\n",
    "\n",
    "print(recman(0))\n",
    "print(recman(1))\n",
    "print(recman(2))\n",
    "print(recman(3))\n",
    "print(recman(4))\n"
   ]
  },
  {
   "cell_type": "code",
   "execution_count": 22,
   "id": "8c4933ac",
   "metadata": {},
   "outputs": [
    {
     "name": "stdout",
     "output_type": "stream",
     "text": [
      "1 3 5 "
     ]
    }
   ],
   "source": [
    "def remove_evens_inplace(lst):\n",
    "    for i in range(len(lst)):\n",
    "        if lst[i] % 2 == 0:\n",
    "            lst[i] = None\n",
    "    for i in lst:\n",
    "        if i is None:\n",
    "            lst.remove(i)\n",
    "    return lst\n",
    "\n",
    "lst = [1, 2, 3, 4, 5, 6]\n",
    "\n",
    "for i in remove_evens_inplace(lst):\n",
    "    print(i, end=' ')"
   ]
  },
  {
   "cell_type": "code",
   "execution_count": 23,
   "id": "0a48d180",
   "metadata": {},
   "outputs": [
    {
     "name": "stdout",
     "output_type": "stream",
     "text": [
      "0\n",
      "1\n",
      "3\n",
      "0\n",
      "4\n"
     ]
    }
   ],
   "source": [
    "def recaman(n):\n",
    "    if n == 0:\n",
    "        return 0\n",
    "\n",
    "    # For N, probably an upper bound value is n * 10\n",
    "    occurrence = [0] * n * 10   # empty for n = 0\n",
    "    last_value, occurrence[0] = 0, 1  # first term\n",
    "\n",
    "    for i in range(1, n+1):\n",
    "        last_idx = i - 1\n",
    "\n",
    "        val = last_value - last_idx - 1\n",
    "\n",
    "        if val < 0 or occurrence[val]:\n",
    "            val = last_value + last_idx + 1\n",
    "\n",
    "        occurrence[val], last_value = 1, val\n",
    "\n",
    "    return last_value\n",
    "\n",
    "if __name__ == '__main__':\n",
    "    print(recman(0))\n",
    "    print(recman(1))\n",
    "    print(recman(2))\n",
    "    print(recman(3))\n",
    "    print(recman(4))"
   ]
  },
  {
   "cell_type": "markdown",
   "id": "a6f1ba7d",
   "metadata": {},
   "source": [
    "# Hard"
   ]
  },
  {
   "cell_type": "code",
   "execution_count": 24,
   "id": "44dfce80",
   "metadata": {},
   "outputs": [
    {
     "name": "stdout",
     "output_type": "stream",
     "text": [
      "5\n",
      "-2.5\n",
      "Ziad\n"
     ]
    }
   ],
   "source": [
    "def find_smallest(lst, target_type):\n",
    "    if not lst:\n",
    "        return None\n",
    "    \n",
    "    ans = []\n",
    "\n",
    "    for item in lst:\n",
    "        if isinstance(item, target_type):\n",
    "            ans.append(item)\n",
    "    \n",
    "    return min(ans) if ans else None\n",
    "\n",
    "lst = [10, -2.5, 20, 5, 'mostafa', 5.2, 'Ziad']\n",
    "\n",
    "print(find_smallest(lst, type(0)))\n",
    "print(find_smallest(lst, type(0.0)))\n",
    "print(find_smallest(lst, type('')))"
   ]
  },
  {
   "cell_type": "code",
   "execution_count": 25,
   "id": "a26a9a7c",
   "metadata": {},
   "outputs": [
    {
     "name": "stdout",
     "output_type": "stream",
     "text": [
      "True\n"
     ]
    }
   ],
   "source": [
    "\n",
    "#[1, 2, 3, 4]\n",
    "#[1, 4]\n",
    "#[2, 3]\n",
    "\n",
    "def is_sublist(sublist, main_list):\n",
    "    if not sublist:\n",
    "        return True\n",
    "    if not main_list:\n",
    "        return False\n",
    "\n",
    "    for i in range(len(main_list) - len(sublist) + 1):\n",
    "        if main_list[i:i + len(sublist)] == sublist:\n",
    "            return True\n",
    "    return False\n",
    "\n",
    "sublist_to_check = [1, 2, 3]\n",
    "main_list = [0, 1, 2, 3, 4]\n",
    "print(is_sublist(sublist_to_check, main_list))  # True"
   ]
  },
  {
   "cell_type": "code",
   "execution_count": 26,
   "id": "0251f58d",
   "metadata": {},
   "outputs": [
    {
     "name": "stdout",
     "output_type": "stream",
     "text": [
      "starts at 4 with sum 5\n"
     ]
    }
   ],
   "source": [
    "def maxium_sum_fixed_window(main_list, k):\n",
    "    max_sum, start_idx = None, None\n",
    "\n",
    "    for idx in range(len(main_list) - k + 1):\n",
    "        current_sum = sum(main_list[idx:idx + k])\n",
    "\n",
    "        if max_sum is None or current_sum > max_sum:\n",
    "            max_sum, start_idx = current_sum, idx\n",
    "\n",
    "    return start_idx, max_sum\n",
    "\n",
    "main_list = [1, 0, 3, -4, 2, -6, 9]\n",
    "k = 3\n",
    "\n",
    "test = maxium_sum_fixed_window(main_list, k)\n",
    "print('starts at', test[0], 'with sum', test[1])"
   ]
  },
  {
   "cell_type": "code",
   "execution_count": 27,
   "id": "b2477a63",
   "metadata": {},
   "outputs": [
    {
     "name": "stdout",
     "output_type": "stream",
     "text": [
      "starts at 4 with sum 5\n"
     ]
    }
   ],
   "source": [
    "def maxium_sum_fixed_window(lst, k):\n",
    "    assert k <= len(lst)\n",
    "\n",
    "    window = sum(lst[:k])  # first k elements\n",
    "    start_idx, max_sum = 0, window\n",
    "\n",
    "    # idx here is actually the last element in the list\n",
    "    for idx in range(k, len(lst)):\n",
    "        window = window - lst[idx - k] + lst[idx]  # - lst[idx-k] remove the first of last window.\n",
    "\n",
    "        if max_sum < window:\n",
    "            max_sum, start_idx = window, idx - (k - 1)\n",
    "\n",
    "    return start_idx, max_sum\n",
    "\n",
    "main_list = [1, 0, 3, -4, 2, -6, 9]\n",
    "k = 3\n",
    "\n",
    "test = maxium_sum_fixed_window(main_list, k)\n",
    "print('starts at', test[0], 'with sum', test[1])"
   ]
  },
  {
   "cell_type": "code",
   "execution_count": 30,
   "id": "14e89a4c",
   "metadata": {},
   "outputs": [
    {
     "name": "stdout",
     "output_type": "stream",
     "text": [
      "10\n",
      "4\n"
     ]
    }
   ],
   "source": [
    "def count_increasing_sublists(lst):\n",
    "    if not lst:\n",
    "        return 0\n",
    "    \n",
    "    cnt, n = 0, len(lst)\n",
    "\n",
    "    for i in range(n):\n",
    "        for j in range(i, n):\n",
    "            if is_increasing(lst[i:j + 1]):\n",
    "                cnt += 1\n",
    "    return cnt\n",
    "\n",
    "lst = [1, 2, 3, 4]\n",
    "print(count_increasing_sublists(lst))\n",
    "lst = [4, 3, 2, 1]\n",
    "print(count_increasing_sublists(lst))"
   ]
  },
  {
   "cell_type": "code",
   "execution_count": null,
   "id": "4201c10f",
   "metadata": {},
   "outputs": [
    {
     "name": "stdout",
     "output_type": "stream",
     "text": [
      "15\n",
      "4\n"
     ]
    }
   ],
   "source": [
    "def count_increasing_sublists(lst):\n",
    "    if not lst:\n",
    "        return 0\n",
    "    \n",
    "    cnt, n = 0, len(lst)\n",
    "\n",
    "    for start in range(n):\n",
    "        cnt += 1\n",
    "        for end in range(start + 1, n):\n",
    "            if lst[end] >= lst[end - 1]:\n",
    "                cnt += 1\n",
    "            else:\n",
    "                break\n",
    "    return cnt\n",
    "\n",
    "lst = [1, 2, 2, 3, 4]\n",
    "print(count_increasing_sublists(lst))\n",
    "lst = [4, 3, 2, 1]\n",
    "print(count_increasing_sublists(lst))"
   ]
  },
  {
   "cell_type": "code",
   "execution_count": 38,
   "id": "cb93daa2",
   "metadata": {},
   "outputs": [
    {
     "name": "stdout",
     "output_type": "stream",
     "text": [
      "15\n",
      "4\n"
     ]
    }
   ],
   "source": [
    "def count_increasing_sublists(lst):\n",
    "    if not lst:\n",
    "        return 0\n",
    "    \n",
    "    cnt, n, increasing_so_far = 0, len(lst), 0\n",
    "\n",
    "    for start in range(n):\n",
    "        if start > 0:\n",
    "            if lst[start] < lst[start - 1]:\n",
    "                increasing_so_far = 0\n",
    "        \n",
    "        increasing_so_far += 1\n",
    "        cnt += increasing_so_far\n",
    "    return cnt\n",
    "\n",
    "lst = [1, 2, 2, 3, 4]\n",
    "print(count_increasing_sublists(lst))\n",
    "lst = [4, 3, 2, 1]\n",
    "print(count_increasing_sublists(lst))"
   ]
  },
  {
   "cell_type": "code",
   "execution_count": 39,
   "id": "9fbc60c0",
   "metadata": {},
   "outputs": [
    {
     "name": "stdout",
     "output_type": "stream",
     "text": [
      "3\n"
     ]
    }
   ],
   "source": [
    "def josephus(n, k):\n",
    "    if n == 1:\n",
    "        return 0\n",
    "    else:\n",
    "        return (josephus(n - 1, k) + k) % n\n",
    "print(josephus(7, 3))  # Example usage"
   ]
  },
  {
   "cell_type": "code",
   "execution_count": 44,
   "id": "f514c304",
   "metadata": {},
   "outputs": [
    {
     "name": "stdout",
     "output_type": "stream",
     "text": [
      "3\n",
      "6\n",
      "2\n",
      "7\n",
      "4\n",
      "5\n",
      "1\n",
      "\n",
      "2\n",
      "4\n",
      "6\n",
      "8\n",
      "10\n",
      "1\n",
      "5\n",
      "9\n",
      "3\n",
      "7\n"
     ]
    }
   ],
   "source": [
    "def josephus(n, k):\n",
    "    people, last_idx = list(range(1, n + 1)), 0\n",
    "\n",
    "    for round in range(n):\n",
    "        for step in range(k-1):\n",
    "            last_idx += 1\n",
    "            if last_idx >= len(people):\n",
    "                last_idx = 0\n",
    "            \n",
    "        print(people.pop(last_idx))\n",
    "josephus(7, 3)\n",
    "print()\n",
    "josephus(10, 2)"
   ]
  },
  {
   "cell_type": "code",
   "execution_count": 1,
   "id": "4ee4d376",
   "metadata": {},
   "outputs": [],
   "source": [
    "\n",
    "def longest_sublist(lst):\n",
    "    best_len = None\n",
    "    \n",
    "    for start in range(1):\n",
    "        zeros, ones = 0, 0\n",
    "        for end in range(start, len(lst)):\n",
    "            if lst[end] == 0:\n",
    "                zeros += 1\n",
    "            else:\n",
    "                ones += 1\n",
    "            \n",
    "            if zeros == ones:\n",
    "                cur_len = end - start + 1\n",
    "                if best_len is None or best_len < cur_len:\n",
    "                    best_len = cur_len\n",
    "    return best_len\n",
    "\n",
    "assert longest_sublist([1, 1, 0, 0]) == 4\n",
    "assert longest_sublist([1, 1, 0, 0, 0, 1]) == 6\n"
   ]
  }
 ],
 "metadata": {
  "kernelspec": {
   "display_name": "Python 3",
   "language": "python",
   "name": "python3"
  },
  "language_info": {
   "codemirror_mode": {
    "name": "ipython",
    "version": 3
   },
   "file_extension": ".py",
   "mimetype": "text/x-python",
   "name": "python",
   "nbconvert_exporter": "python",
   "pygments_lexer": "ipython3",
   "version": "3.13.5"
  }
 },
 "nbformat": 4,
 "nbformat_minor": 5
}
