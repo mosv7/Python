{
 "cells": [
  {
   "cell_type": "markdown",
   "id": "6899f8dc",
   "metadata": {},
   "source": [
    "# Easy To Medium"
   ]
  },
  {
   "cell_type": "code",
   "execution_count": 5,
   "id": "378e07d3",
   "metadata": {},
   "outputs": [
    {
     "name": "stdout",
     "output_type": "stream",
     "text": [
      "True\n"
     ]
    }
   ],
   "source": [
    "def is_increasing(lst):\n",
    "    for i in range(len(lst) - 1):\n",
    "        if lst[i] > lst[i + 1]:\n",
    "            return False\n",
    "    return True\n",
    "\n",
    "lst1 = [-10, 10]\n",
    "print(is_increasing(lst1))"
   ]
  },
  {
   "cell_type": "code",
   "execution_count": 6,
   "id": "12e7e60d",
   "metadata": {},
   "outputs": [
    {
     "name": "stdout",
     "output_type": "stream",
     "text": [
      "True\n"
     ]
    }
   ],
   "source": [
    "def is_increasing(lst):\n",
    "    return all(lst[i] <= lst[i + 1] for i in range(len(lst) - 1))\n",
    "\n",
    "lst1 = [-10, 10]\n",
    "print(is_increasing(lst1))"
   ]
  },
  {
   "cell_type": "code",
   "execution_count": 9,
   "id": "78f317fa",
   "metadata": {},
   "outputs": [
    {
     "name": "stdout",
     "output_type": "stream",
     "text": [
      "[4, 10, 3, 1, 8, 1, 1]\n"
     ]
    }
   ],
   "source": [
    "def replace_min_max_inplace(lst):\n",
    "    if not lst:\n",
    "        return\n",
    "    mn = min(lst)\n",
    "    mx = max(lst)\n",
    "    for idx, value in enumerate(lst):\n",
    "        if value == mn:\n",
    "            lst[idx] = mx\n",
    "        elif value == mx:\n",
    "            lst[idx] = mn\n",
    "\n",
    "lst = [4, 1, 3, 10, 8, 10, 10]\n",
    "replace_min_max_inplace(lst)\n",
    "print(lst)"
   ]
  },
  {
   "cell_type": "code",
   "execution_count": 13,
   "id": "917497cf",
   "metadata": {},
   "outputs": [
    {
     "name": "stdout",
     "output_type": "stream",
     "text": [
      "Query 7 answer 4\n",
      "Query 9 answer -1\n",
      "Query 2 answer 1\n"
     ]
    }
   ],
   "source": [
    "def search_for_number(lst, lst2):\n",
    "    for i in range(len(lst2)):\n",
    "        idx = -1\n",
    "        for j in range(len(lst)):\n",
    "            if lst2[i] == lst[j]:\n",
    "                idx = j\n",
    "        if idx:\n",
    "            print(f'Query {lst2[i]} answer {idx}')\n",
    "\n",
    "lst = [1, 2, 7, 3, 7]\n",
    "lst2 = [7, 9, 2]\n",
    "search_for_number(lst, lst2)"
   ]
  },
  {
   "cell_type": "code",
   "execution_count": 14,
   "id": "ec7fa8ed",
   "metadata": {},
   "outputs": [
    {
     "name": "stdout",
     "output_type": "stream",
     "text": [
      "Query 7 answer 3\n",
      "Query 9 answer -1\n",
      "Query 2 answer 1\n"
     ]
    }
   ],
   "source": [
    "if __name__ == \"__main__\":\n",
    "    lst = list(map(int, input().split()))\n",
    "    query = list(map(int, input().split()))\n",
    "    \n",
    "    lst.reverse()\n",
    "    \n",
    "    for q in query:\n",
    "        idx = -1\n",
    "        if q in lst:\n",
    "            idx = lst.index(q)\n",
    "            idx = len(lst) - 1 - idx\n",
    "        print('Query', q, 'answer', idx)"
   ]
  },
  {
   "cell_type": "code",
   "execution_count": 15,
   "id": "b798811b",
   "metadata": {},
   "outputs": [
    {
     "name": "stdout",
     "output_type": "stream",
     "text": [
      "[1, 2, 3, 4]\n"
     ]
    }
   ],
   "source": [
    "def unique_numbers_of_unordered(lst):\n",
    "    unique_numbers = []\n",
    "\n",
    "    for number in lst:\n",
    "        if number not in unique_numbers:\n",
    "            unique_numbers.append(number)\n",
    "    return unique_numbers\n",
    "\n",
    "lst = [1, 2, 3, 2, 1, 4]\n",
    "print(unique_numbers_of_unordered(lst))"
   ]
  },
  {
   "cell_type": "code",
   "execution_count": 16,
   "id": "7d2524bc",
   "metadata": {},
   "outputs": [
    {
     "name": "stdout",
     "output_type": "stream",
     "text": [
      "[1, 2, 5, 6, 7, 8, 9]\n"
     ]
    }
   ],
   "source": [
    "def unique_numbers_of_ordered(lst):\n",
    "    unique_numbers = []\n",
    "\n",
    "    for idx, value in enumerate(lst):\n",
    "        if idx == 0 or value != lst[idx -1]:\n",
    "            unique_numbers.append(value)\n",
    "    return unique_numbers\n",
    "\n",
    "lst = [1, 1, 2, 2, 2, 5, 6, 6, 7, 8, 9, 9]\n",
    "print(unique_numbers_of_ordered(lst))"
   ]
  },
  {
   "cell_type": "code",
   "execution_count": 17,
   "id": "bf0f58a0",
   "metadata": {},
   "outputs": [
    {
     "name": "stdout",
     "output_type": "stream",
     "text": [
      "7\n"
     ]
    }
   ],
   "source": [
    "def smalles_pair(lst):\n",
    "    smallest = float('inf')\n",
    "\n",
    "    for i in range(len(lst) - 1):\n",
    "        for j in range(i + 1, len(lst) - 1):\n",
    "            if lst[i] + lst[j] + j - i > lst[i + 1] + lst[j + 1] + (j + 1) - (i + 1):\n",
    "                smallest = lst[i + 1] + lst[j + 1] + (j + 1) - (i + 1)\n",
    "    return smallest\n",
    "\n",
    "lst = [20, 1, 9, 4]\n",
    "print(smalles_pair(lst))"
   ]
  },
  {
   "cell_type": "code",
   "execution_count": 18,
   "id": "1c20beeb",
   "metadata": {},
   "outputs": [],
   "source": [
    "def min_3_values(lst):\n",
    "    min1 = min2 = min3 = float('inf')\n",
    "\n",
    "    for i in range(len(lst)):\n",
    "        if lst[i] < min1:\n",
    "            min3 = min2\n",
    "            min2 = min1\n",
    "            min1 = lst[i]\n",
    "        elif lst[i] < min2:\n",
    "            min3 = min2\n",
    "            min2 = lst[i]\n",
    "        elif lst[i] < min3:\n",
    "            min3 = lst[i]\n",
    "    return min1, min2, min3\n",
    "\n",
    "assert min_3_values([4, 1, 3, 10, 8]) == (1, 3, 4)\n",
    "assert min_3_values([7, 9, -2]) == (-2, 7, 9)\n"
   ]
  },
  {
   "cell_type": "code",
   "execution_count": 20,
   "id": "5a79f11d",
   "metadata": {},
   "outputs": [
    {
     "name": "stdout",
     "output_type": "stream",
     "text": [
      "[1, 4, 9, 20]\n"
     ]
    }
   ],
   "source": [
    "lst.sort()\n",
    "print(lst)"
   ]
  },
  {
   "cell_type": "code",
   "execution_count": 24,
   "id": "92c6a24a",
   "metadata": {},
   "outputs": [
    {
     "name": "stdout",
     "output_type": "stream",
     "text": [
      "[1, 3, 4]\n",
      "[-2, 7, 9]\n",
      "[-5, 1]\n"
     ]
    }
   ],
   "source": [
    "def find_3_min(lst):\n",
    "    mn_list = []\n",
    "    for i in lst:\n",
    "        mn_list.append(i)\n",
    "        if len(mn_list) > 3:\n",
    "            mn_list.sort()\n",
    "            mn_list.pop()\n",
    "    mn_list.sort()\n",
    "    return mn_list\n",
    "\n",
    "lst = [4, 1, 3, 10, 8]\n",
    "lst2 = [7, 9, -2]\n",
    "lst3 = [1, -5]\n",
    "print(find_3_min(lst))\n",
    "print(find_3_min(lst2))\n",
    "print(find_3_min(lst3))"
   ]
  }
 ],
 "metadata": {
  "kernelspec": {
   "display_name": "Python 3",
   "language": "python",
   "name": "python3"
  },
  "language_info": {
   "codemirror_mode": {
    "name": "ipython",
    "version": 3
   },
   "file_extension": ".py",
   "mimetype": "text/x-python",
   "name": "python",
   "nbconvert_exporter": "python",
   "pygments_lexer": "ipython3",
   "version": "3.13.5"
  }
 },
 "nbformat": 4,
 "nbformat_minor": 5
}
