{
 "cells": [
  {
   "cell_type": "markdown",
   "id": "6899f8dc",
   "metadata": {},
   "source": [
    "# Easy To Medium"
   ]
  },
  {
   "cell_type": "code",
   "execution_count": 5,
   "id": "378e07d3",
   "metadata": {},
   "outputs": [
    {
     "name": "stdout",
     "output_type": "stream",
     "text": [
      "True\n"
     ]
    }
   ],
   "source": [
    "def is_increasing(lst):\n",
    "    for i in range(len(lst) - 1):\n",
    "        if lst[i] > lst[i + 1]:\n",
    "            return False\n",
    "    return True\n",
    "\n",
    "lst1 = [-10, 10]\n",
    "print(is_increasing(lst1))"
   ]
  },
  {
   "cell_type": "code",
   "execution_count": 6,
   "id": "12e7e60d",
   "metadata": {},
   "outputs": [
    {
     "name": "stdout",
     "output_type": "stream",
     "text": [
      "True\n"
     ]
    }
   ],
   "source": [
    "def is_increasing(lst):\n",
    "    return all(lst[i] <= lst[i + 1] for i in range(len(lst) - 1))\n",
    "\n",
    "lst1 = [-10, 10]\n",
    "print(is_increasing(lst1))"
   ]
  },
  {
   "cell_type": "code",
   "execution_count": 29,
   "id": "78f317fa",
   "metadata": {},
   "outputs": [
    {
     "name": "stdout",
     "output_type": "stream",
     "text": [
      "[4, 10, 3, 1, 8, 1, 1]\n"
     ]
    }
   ],
   "source": [
    "def replace_min_max_inplace(lst):\n",
    "    if not lst:\n",
    "        return\n",
    "    mn = min(lst)\n",
    "    mx = max(lst)\n",
    "    for idx in range(len(lst)):\n",
    "        if lst[idx] == mn:\n",
    "            lst[idx] = mx\n",
    "        elif lst[idx] == mx:\n",
    "            lst[idx] = mn\n",
    "\n",
    "lst = [4, 1, 3, 10, 8, 10, 10]\n",
    "replace_min_max_inplace(lst)\n",
    "print(lst)"
   ]
  },
  {
   "cell_type": "code",
   "execution_count": 13,
   "id": "917497cf",
   "metadata": {},
   "outputs": [
    {
     "name": "stdout",
     "output_type": "stream",
     "text": [
      "Query 7 answer 4\n",
      "Query 9 answer -1\n",
      "Query 2 answer 1\n"
     ]
    }
   ],
   "source": [
    "def search_for_number(lst, lst2):\n",
    "    for i in range(len(lst2)):\n",
    "        idx = -1\n",
    "        for j in range(len(lst)):\n",
    "            if lst2[i] == lst[j]:\n",
    "                idx = j\n",
    "        if idx:\n",
    "            print(f'Query {lst2[i]} answer {idx}')\n",
    "\n",
    "lst = [1, 2, 7, 3, 7]\n",
    "lst2 = [7, 9, 2]\n",
    "search_for_number(lst, lst2)"
   ]
  },
  {
   "cell_type": "code",
   "execution_count": 14,
   "id": "ec7fa8ed",
   "metadata": {},
   "outputs": [
    {
     "name": "stdout",
     "output_type": "stream",
     "text": [
      "Query 7 answer 3\n",
      "Query 9 answer -1\n",
      "Query 2 answer 1\n"
     ]
    }
   ],
   "source": [
    "if __name__ == \"__main__\":\n",
    "    lst = list(map(int, input().split()))\n",
    "    query = list(map(int, input().split()))\n",
    "    \n",
    "    lst.reverse()\n",
    "    \n",
    "    for q in query:\n",
    "        idx = -1\n",
    "        if q in lst:\n",
    "            idx = lst.index(q)\n",
    "            idx = len(lst) - 1 - idx\n",
    "        print('Query', q, 'answer', idx)"
   ]
  },
  {
   "cell_type": "code",
   "execution_count": 15,
   "id": "b798811b",
   "metadata": {},
   "outputs": [
    {
     "name": "stdout",
     "output_type": "stream",
     "text": [
      "[1, 2, 3, 4]\n"
     ]
    }
   ],
   "source": [
    "def unique_numbers_of_unordered(lst):\n",
    "    unique_numbers = []\n",
    "\n",
    "    for number in lst:\n",
    "        if number not in unique_numbers:\n",
    "            unique_numbers.append(number)\n",
    "    return unique_numbers\n",
    "\n",
    "lst = [1, 2, 3, 2, 1, 4]\n",
    "print(unique_numbers_of_unordered(lst))"
   ]
  },
  {
   "cell_type": "code",
   "execution_count": 16,
   "id": "7d2524bc",
   "metadata": {},
   "outputs": [
    {
     "name": "stdout",
     "output_type": "stream",
     "text": [
      "[1, 2, 5, 6, 7, 8, 9]\n"
     ]
    }
   ],
   "source": [
    "def unique_numbers_of_ordered(lst):\n",
    "    unique_numbers = []\n",
    "\n",
    "    for idx, value in enumerate(lst):\n",
    "        if idx == 0 or value != lst[idx -1]:\n",
    "            unique_numbers.append(value)\n",
    "    return unique_numbers\n",
    "\n",
    "lst = [1, 1, 2, 2, 2, 5, 6, 6, 7, 8, 9, 9]\n",
    "print(unique_numbers_of_ordered(lst))"
   ]
  },
  {
   "cell_type": "code",
   "execution_count": 17,
   "id": "bf0f58a0",
   "metadata": {},
   "outputs": [
    {
     "name": "stdout",
     "output_type": "stream",
     "text": [
      "7\n"
     ]
    }
   ],
   "source": [
    "def smalles_pair(lst):\n",
    "    smallest = float('inf')\n",
    "\n",
    "    for i in range(len(lst) - 1):\n",
    "        for j in range(i + 1, len(lst) - 1):\n",
    "            if lst[i] + lst[j] + j - i > lst[i + 1] + lst[j + 1] + (j + 1) - (i + 1):\n",
    "                smallest = lst[i + 1] + lst[j + 1] + (j + 1) - (i + 1)\n",
    "    return smallest\n",
    "\n",
    "lst = [20, 1, 9, 4]\n",
    "print(smalles_pair(lst))"
   ]
  },
  {
   "cell_type": "code",
   "execution_count": 18,
   "id": "1c20beeb",
   "metadata": {},
   "outputs": [],
   "source": [
    "def min_3_values(lst):\n",
    "    min1 = min2 = min3 = float('inf')\n",
    "\n",
    "    for i in range(len(lst)):\n",
    "        if lst[i] < min1:\n",
    "            min3 = min2\n",
    "            min2 = min1\n",
    "            min1 = lst[i]\n",
    "        elif lst[i] < min2:\n",
    "            min3 = min2\n",
    "            min2 = lst[i]\n",
    "        elif lst[i] < min3:\n",
    "            min3 = lst[i]\n",
    "    return min1, min2, min3\n",
    "\n",
    "assert min_3_values([4, 1, 3, 10, 8]) == (1, 3, 4)\n",
    "assert min_3_values([7, 9, -2]) == (-2, 7, 9)\n"
   ]
  },
  {
   "cell_type": "code",
   "execution_count": 20,
   "id": "5a79f11d",
   "metadata": {},
   "outputs": [
    {
     "name": "stdout",
     "output_type": "stream",
     "text": [
      "[1, 4, 9, 20]\n"
     ]
    }
   ],
   "source": [
    "lst.sort()\n",
    "print(lst)"
   ]
  },
  {
   "cell_type": "code",
   "execution_count": 24,
   "id": "92c6a24a",
   "metadata": {},
   "outputs": [
    {
     "name": "stdout",
     "output_type": "stream",
     "text": [
      "[1, 3, 4]\n",
      "[-2, 7, 9]\n",
      "[-5, 1]\n"
     ]
    }
   ],
   "source": [
    "def find_3_min(lst):\n",
    "    mn_list = []\n",
    "    for i in lst:\n",
    "        mn_list.append(i)\n",
    "        if len(mn_list) > 3:\n",
    "            mn_list.sort()\n",
    "            mn_list.pop()\n",
    "    mn_list.sort()\n",
    "    return mn_list\n",
    "\n",
    "lst = [4, 1, 3, 10, 8]\n",
    "lst2 = [7, 9, -2]\n",
    "lst3 = [1, -5]\n",
    "print(find_3_min(lst))\n",
    "print(find_3_min(lst2))\n",
    "print(find_3_min(lst3))"
   ]
  },
  {
   "cell_type": "markdown",
   "id": "bbfd3a39",
   "metadata": {},
   "source": [
    "# Medium To Hard"
   ]
  },
  {
   "cell_type": "code",
   "execution_count": 8,
   "id": "beb4c9a3",
   "metadata": {},
   "outputs": [
    {
     "name": "stdout",
     "output_type": "stream",
     "text": [
      "Value -500 repeated 4 times\n"
     ]
    }
   ],
   "source": [
    "def most_frequent_number(lst):\n",
    "    freq_arr = [0] * 771\n",
    "    for value in lst:\n",
    "        freq_arr[value] += 1\n",
    "    idx = freq_arr.index(max(freq_arr))\n",
    "    if idx > 270:\n",
    "        idx -= 771\n",
    "    return f'Value {idx} repeated {max(freq_arr)} times'\n",
    "\n",
    "\n",
    "lst = [-1, 2, -1, 3, -1, 5, 5, -9, -9, -9, 2, -500, -500, -500, -500]\n",
    "\n",
    "print(most_frequent_number(lst))\n"
   ]
  },
  {
   "cell_type": "code",
   "execution_count": 12,
   "id": "5e20e3f0",
   "metadata": {},
   "outputs": [
    {
     "name": "stdout",
     "output_type": "stream",
     "text": [
      "0 3\n",
      "1 5\n",
      "2 2\n",
      "3 2\n",
      "4 1\n",
      "5 1\n",
      "6 1\n",
      "7 1\n",
      "8 1\n",
      "9 1\n"
     ]
    }
   ],
   "source": [
    "def digits_frequency(lst):\n",
    "    freq_arr = [0] * 10\n",
    "    lst = [abs(num) for num in lst]  # Handle negative numbers\n",
    "    for num in lst:\n",
    "        while num > 0:\n",
    "            freq_arr[num % 10] += 1\n",
    "            num //= 10\n",
    "    return freq_arr\n",
    "\n",
    "lst = [123, 456, 789, 101112, -300]\n",
    "for idx, vlaue in enumerate(digits_frequency(lst)):\n",
    "    print(idx, vlaue)\n"
   ]
  },
  {
   "cell_type": "code",
   "execution_count": 16,
   "id": "faa165b7",
   "metadata": {},
   "outputs": [
    {
     "name": "stdout",
     "output_type": "stream",
     "text": [
      "0 3\n",
      "1 5\n",
      "2 2\n",
      "3 2\n",
      "4 1\n",
      "5 1\n",
      "6 1\n",
      "7 1\n",
      "8 1\n",
      "9 1\n"
     ]
    }
   ],
   "source": [
    "def digits_frequency(lst):\n",
    "    freq = [0] * 10\n",
    "\n",
    "    for value in lst:\n",
    "        string = str(abs(value))\n",
    "        for char in string:\n",
    "            freq[int(char)] += 1\n",
    "    return freq\n",
    "\n",
    "lst = [123, 456, 789, 101112, -300]\n",
    "for idx, value in enumerate(digits_frequency(lst)):\n",
    "    print(idx, value)"
   ]
  },
  {
   "cell_type": "code",
   "execution_count": 17,
   "id": "f191517e",
   "metadata": {},
   "outputs": [
    {
     "name": "stdout",
     "output_type": "stream",
     "text": [
      "False\n"
     ]
    }
   ],
   "source": [
    "def is_subsequence(lst1, lst2):\n",
    "    return all(elem in lst2 for elem in lst1)\n",
    "\n",
    "lst1 = [1, 2, 3, 4]\n",
    "lst2 = [1, 4]\n",
    "print(is_subsequence(lst1, lst2))"
   ]
  },
  {
   "cell_type": "code",
   "execution_count": 23,
   "id": "cb6048c2",
   "metadata": {},
   "outputs": [
    {
     "name": "stdout",
     "output_type": "stream",
     "text": [
      "True\n"
     ]
    }
   ],
   "source": [
    "def is_subsequence(lst1, lst2):\n",
    "    val = lst2[0]\n",
    "    idx = lst1.index(val)\n",
    "\n",
    "    for i in range(1, len(lst2)):\n",
    "        for j in range(len(lst1)):\n",
    "            if lst2[i] == lst1[j]:\n",
    "                if j < idx:\n",
    "                    return False\n",
    "                else:\n",
    "                    idx = j\n",
    "    return True\n",
    "\n",
    "\n",
    "\n",
    "lst1 = [1, 2, 3, 4]\n",
    "lst2 = [1, 4]\n",
    "print(is_subsequence(lst1, lst2))"
   ]
  },
  {
   "cell_type": "code",
   "execution_count": null,
   "id": "8c4933ac",
   "metadata": {},
   "outputs": [
    {
     "name": "stdout",
     "output_type": "stream",
     "text": [
      "1 3 5 "
     ]
    }
   ],
   "source": [
    "def remove_evens_inplace(lst):\n",
    "    for i in range(len(lst)):\n",
    "        if lst[i] % 2 == 0:\n",
    "            lst[i] = None\n",
    "    for i in lst:\n",
    "        if i is None:\n",
    "            lst.remove(i)\n",
    "    return lst\n",
    "\n",
    "lst = [1, 2, 3, 4, 5, 6]\n",
    "\n",
    "for i in remove_evens_inplace(lst):\n",
    "    print(i, end=' ')"
   ]
  }
 ],
 "metadata": {
  "kernelspec": {
   "display_name": "Python 3",
   "language": "python",
   "name": "python3"
  },
  "language_info": {
   "codemirror_mode": {
    "name": "ipython",
    "version": 3
   },
   "file_extension": ".py",
   "mimetype": "text/x-python",
   "name": "python",
   "nbconvert_exporter": "python",
   "pygments_lexer": "ipython3",
   "version": "3.13.5"
  }
 },
 "nbformat": 4,
 "nbformat_minor": 5
}
