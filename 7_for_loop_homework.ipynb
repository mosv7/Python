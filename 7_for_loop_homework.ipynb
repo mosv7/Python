{
 "cells": [
  {
   "cell_type": "markdown",
   "id": "80c693d5",
   "metadata": {},
   "source": [
    "# Medium to Hard"
   ]
  },
  {
   "cell_type": "code",
   "execution_count": 2,
   "id": "2cd655dc",
   "metadata": {},
   "outputs": [
    {
     "name": "stdout",
     "output_type": "stream",
     "text": [
      "*     *\n",
      " *   * \n",
      "  * *  \n",
      "   *   \n",
      "  * *  \n",
      " *   * \n",
      "*     *\n"
     ]
    }
   ],
   "source": [
    "n = int(input())\n",
    "\n",
    "for i in range(n):\n",
    "    for j in range(n):\n",
    "        if i == j or i + j == n - 1:\n",
    "            print('*', end='')\n",
    "        else:\n",
    "            print(' ', end='')\n",
    "    print()"
   ]
  },
  {
   "cell_type": "code",
   "execution_count": 8,
   "id": "a0d7fb18",
   "metadata": {},
   "outputs": [
    {
     "name": "stdout",
     "output_type": "stream",
     "text": [
      "8040\n"
     ]
    }
   ],
   "source": [
    "cnt = 0\n",
    "for x in range(50, 301):\n",
    "    for y in range(70, 401):\n",
    "        if x < y and (x + y) % 7 == 0:\n",
    "            cnt += 1\n",
    "print(cnt)"
   ]
  },
  {
   "cell_type": "code",
   "execution_count": 3,
   "id": "dc208b85",
   "metadata": {},
   "outputs": [
    {
     "name": "stdout",
     "output_type": "stream",
     "text": [
      "8040\n"
     ]
    }
   ],
   "source": [
    "cnt = 0\n",
    "\n",
    "for x in range(50, 301):\n",
    "    start = max(70, x + 1)\n",
    "    \n",
    "    for y in range(start, 401):\n",
    "        if (x + y) % 7 == 0:\n",
    "            cnt += 1\n",
    "print(cnt)"
   ]
  },
  {
   "cell_type": "code",
   "execution_count": null,
   "id": "b3ad059d",
   "metadata": {},
   "outputs": [
    {
     "name": "stdout",
     "output_type": "stream",
     "text": [
      "5333400\n"
     ]
    }
   ],
   "source": [
    "cnt = 0\n",
    "for a in range(1, 201):\n",
    "    for b in range(1, 201):\n",
    "        for c in range(1, 201):\n",
    "            for d in range(1, 201):\n",
    "                if a + b  == c + d:\n",
    "                    cnt += 1\n",
    "print(cnt)"
   ]
  },
  {
   "cell_type": "code",
   "execution_count": 18,
   "id": "99d1112c",
   "metadata": {},
   "outputs": [
    {
     "name": "stdout",
     "output_type": "stream",
     "text": [
      "5333400\n"
     ]
    }
   ],
   "source": [
    "cnt = 0\n",
    "for a in range(1, 201):\n",
    "    for b in range(1, 201):\n",
    "        for c in range(1, 201):\n",
    "            d = a + b - c\n",
    "            \n",
    "            if 1 <= d <= 200:\n",
    "                cnt += 1\n",
    "print(cnt)"
   ]
  },
  {
   "cell_type": "code",
   "execution_count": 32,
   "id": "ace66730",
   "metadata": {},
   "outputs": [
    {
     "name": "stdout",
     "output_type": "stream",
     "text": [
      "False\n"
     ]
    }
   ],
   "source": [
    "n = 123456789 #int(input())\n",
    "\n",
    "for i in range(2, n + 1):\n",
    "    is_prime = True\n",
    "\n",
    "    if n % i == 0:\n",
    "        is_prime = False\n",
    "        break\n",
    "\n",
    "print(is_prime)"
   ]
  },
  {
   "cell_type": "code",
   "execution_count": 31,
   "id": "cd474e25",
   "metadata": {},
   "outputs": [
    {
     "name": "stdout",
     "output_type": "stream",
     "text": [
      "False\n"
     ]
    }
   ],
   "source": [
    "n = 123456789 #int(input())\n",
    "\n",
    "for i in range(2, int(n**0.5) + 1):\n",
    "    is_prime = True\n",
    "\n",
    "    if n % i == 0:\n",
    "        is_prime = False\n",
    "        break\n",
    "\n",
    "print(is_prime)"
   ]
  },
  {
   "cell_type": "code",
   "execution_count": 40,
   "id": "cb3a9891",
   "metadata": {},
   "outputs": [
    {
     "name": "stdout",
     "output_type": "stream",
     "text": [
      "2 3 5 7 11 13 17 "
     ]
    }
   ],
   "source": [
    "n = 18 #int(input())\n",
    "\n",
    "for i in range(2, n + 1):\n",
    "    is_prime = True\n",
    "\n",
    "    for j in range(2, i):\n",
    "        if i % j == 0:\n",
    "            is_prime = False\n",
    "            break\n",
    "\n",
    "    if is_prime:\n",
    "        print(i, end=' ')"
   ]
  },
  {
   "cell_type": "code",
   "execution_count": 4,
   "id": "0772f1c4",
   "metadata": {},
   "outputs": [
    {
     "name": "stdout",
     "output_type": "stream",
     "text": [
      "84\n"
     ]
    }
   ],
   "source": [
    "n, a, b = map(int, input().split())\n",
    "sum = 0\n",
    "for i in range(1, n+1):\n",
    "    res, temp = 0, i\n",
    "\n",
    "    while temp:\n",
    "        res += temp % 10\n",
    "        temp //= 10\n",
    "    if a <= res <= b:\n",
    "        sum += i\n",
    "print(sum)"
   ]
  }
 ],
 "metadata": {
  "kernelspec": {
   "display_name": "Python 3",
   "language": "python",
   "name": "python3"
  },
  "language_info": {
   "codemirror_mode": {
    "name": "ipython",
    "version": 3
   },
   "file_extension": ".py",
   "mimetype": "text/x-python",
   "name": "python",
   "nbconvert_exporter": "python",
   "pygments_lexer": "ipython3",
   "version": "3.13.5"
  }
 },
 "nbformat": 4,
 "nbformat_minor": 5
}
