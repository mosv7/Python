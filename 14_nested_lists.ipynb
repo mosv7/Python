{
 "cells": [
  {
   "cell_type": "markdown",
   "id": "fe4d6c16",
   "metadata": {},
   "source": [
    "# Easy To Medium"
   ]
  },
  {
   "cell_type": "code",
   "execution_count": 7,
   "id": "1a97ca91",
   "metadata": {},
   "outputs": [
    {
     "name": "stdout",
     "output_type": "stream",
     "text": [
      "[[3, 2, 1], [6, 5, 4], [9, 8, 7]]\n"
     ]
    }
   ],
   "source": [
    "rows = int(input())\n",
    "input_matrix = []\n",
    "for _ in range(rows):\n",
    "    input_matrix.append(list(map(int, input().split())))\n",
    "\n",
    "col, col1 = map(int, input().split())\n",
    "\n",
    "for row in range(len(input_matrix)):\n",
    "    input_matrix[row][col], input_matrix[row][col1] = input_matrix[row][col1], input_matrix[row][col]\n",
    "\n",
    "print(input_matrix)"
   ]
  },
  {
   "cell_type": "code",
   "execution_count": 2,
   "id": "cf381765",
   "metadata": {},
   "outputs": [],
   "source": [
    "def read_matrix():\n",
    "    rows = int(input())\n",
    "    assert rows > 0\n",
    "    input_matrix = [0] * rows\n",
    "\n",
    "    for row in range(rows):\n",
    "        input_matrix[row] = list(map(int, input().split()))\n",
    "    return rows, len(input_matrix[0]), input_matrix"
   ]
  },
  {
   "cell_type": "code",
   "execution_count": null,
   "id": "b14cdbdf",
   "metadata": {},
   "outputs": [
    {
     "name": "stdout",
     "output_type": "stream",
     "text": [
      "[[3, 2, 1], [6, 5, 4], [9, 8, 7]]\n"
     ]
    }
   ],
   "source": [
    "if __name__ == '__main__':\n",
    "    rows, cols, matrix = read_matrix()\n",
    "    c1, c2 = map(int, input().split())\n",
    "\n",
    "    for row in matrix:\n",
    "        row[c1], row[c2] = row[c2], row[c1]\n",
    "\n",
    "    print(matrix)\n"
   ]
  },
  {
   "cell_type": "code",
   "execution_count": 3,
   "id": "481b24d7",
   "metadata": {},
   "outputs": [
    {
     "name": "stdout",
     "output_type": "stream",
     "text": [
      "94\n",
      "104\n"
     ]
    }
   ],
   "source": [
    "rows, cols, matrix = read_matrix()\n",
    "up_tri, low_tri = 0, 0\n",
    "\n",
    "for row in range(rows):\n",
    "    for col in range(cols):\n",
    "        if row <= col:\n",
    "            up_tri += matrix[row][col]\n",
    "\n",
    "for row in range(rows):\n",
    "    for col in range(cols):\n",
    "        if row >= col:\n",
    "            low_tri += matrix[row][col]\n",
    "\n",
    "print(low_tri)\n",
    "print(up_tri)"
   ]
  },
  {
   "cell_type": "code",
   "execution_count": 9,
   "id": "1c4d106f",
   "metadata": {},
   "outputs": [
    {
     "name": "stdout",
     "output_type": "stream",
     "text": [
      "94\n",
      "104\n"
     ]
    }
   ],
   "source": [
    "rows, cols, matrix = read_matrix()\n",
    "up_tri, low_tri = 0, 0\n",
    "\n",
    "for idx, row in enumerate(matrix):\n",
    "    low_tri += sum(row[:idx+1])\n",
    "    up_tri += sum(row[idx:])\n",
    "\n",
    "print(low_tri)\n",
    "print(up_tri)"
   ]
  },
  {
   "cell_type": "code",
   "execution_count": null,
   "id": "88da611f",
   "metadata": {},
   "outputs": [
    {
     "name": "stdout",
     "output_type": "stream",
     "text": [
      "[[1, 2, 3], [4, 5], [6]]\n"
     ]
    }
   ],
   "source": [
    "rows, cols, matrix = read_matrix()\n",
    "\n",
    "matrix = [row for row in matrix if row != []]\n",
    "print(matrix)"
   ]
  },
  {
   "cell_type": "code",
   "execution_count": 16,
   "id": "b9e16b44",
   "metadata": {},
   "outputs": [
    {
     "name": "stdout",
     "output_type": "stream",
     "text": [
      "max value at position (2,2) with value 10\n"
     ]
    }
   ],
   "source": [
    "rows, cols, matrix = read_matrix()\n",
    "max, row, col = float('-inf'), None, None\n",
    "\n",
    "for i in range(rows):\n",
    "    for j in range(cols):\n",
    "        if matrix[i][j] >= max:\n",
    "            max = matrix[i][j]\n",
    "            row = i\n",
    "            col = j\n",
    "\n",
    "print(f'max value at position ({row},{col}) with value {max}')"
   ]
  },
  {
   "cell_type": "code",
   "execution_count": 6,
   "id": "d79a9a5b",
   "metadata": {},
   "outputs": [
    {
     "name": "stdout",
     "output_type": "stream",
     "text": [
      "51\n",
      "68\n",
      "25\n",
      "104\n"
     ]
    }
   ],
   "source": [
    "def special_print(matrix):\n",
    "    lst_row_sum = sum(matrix[-1])\n",
    "    lst_col_sum = sum(row[-1] for row in matrix)\n",
    "    left_diag_sum = sum(row[idx] for idx, row in enumerate(matrix))\n",
    "    right_diag_sum = sum(row[-(idx + 1)] for idx, row in enumerate(matrix))\n",
    "\n",
    "    print(lst_row_sum)\n",
    "    print(lst_col_sum)\n",
    "    print(left_diag_sum)\n",
    "    print(right_diag_sum)\n",
    "\n",
    "rows, cols, matrix = read_matrix()\n",
    "special_print(matrix)"
   ]
  },
  {
   "cell_type": "code",
   "execution_count": null,
   "id": "fe4c08f1",
   "metadata": {},
   "outputs": [
    {
     "name": "stdout",
     "output_type": "stream",
     "text": [
      "found in col 1\n"
     ]
    }
   ],
   "source": [
    "rows, cols, matrix = read_matrix()\n",
    "item = int(input())\n",
    "\n",
    "for idx, tup in enumerate(zip(*matrix)):\n",
    "    if item in tup:\n",
    "        print(f'found in col {idx}')\n",
    "else:\n",
    "    print('not found')"
   ]
  }
 ],
 "metadata": {
  "kernelspec": {
   "display_name": "Python 3",
   "language": "python",
   "name": "python3"
  },
  "language_info": {
   "codemirror_mode": {
    "name": "ipython",
    "version": 3
   },
   "file_extension": ".py",
   "mimetype": "text/x-python",
   "name": "python",
   "nbconvert_exporter": "python",
   "pygments_lexer": "ipython3",
   "version": "3.13.5"
  }
 },
 "nbformat": 4,
 "nbformat_minor": 5
}
