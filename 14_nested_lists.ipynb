{
 "cells": [
  {
   "cell_type": "markdown",
   "id": "fe4d6c16",
   "metadata": {},
   "source": [
    "# Easy To Medium"
   ]
  },
  {
   "cell_type": "code",
   "execution_count": 7,
   "id": "1a97ca91",
   "metadata": {},
   "outputs": [
    {
     "name": "stdout",
     "output_type": "stream",
     "text": [
      "[[3, 2, 1], [6, 5, 4], [9, 8, 7]]\n"
     ]
    }
   ],
   "source": [
    "rows = int(input())\n",
    "input_matrix = []\n",
    "for _ in range(rows):\n",
    "    input_matrix.append(list(map(int, input().split())))\n",
    "\n",
    "col, col1 = map(int, input().split())\n",
    "\n",
    "for row in range(len(input_matrix)):\n",
    "    input_matrix[row][col], input_matrix[row][col1] = input_matrix[row][col1], input_matrix[row][col]\n",
    "\n",
    "print(input_matrix)"
   ]
  },
  {
   "cell_type": "code",
   "execution_count": 3,
   "id": "cf381765",
   "metadata": {},
   "outputs": [],
   "source": [
    "def read_matrix():\n",
    "    rows = int(input())\n",
    "    assert rows > 0\n",
    "    input_matrix = [0] * rows\n",
    "\n",
    "    for row in range(rows):\n",
    "        input_matrix[row] = list(map(int, input().split()))\n",
    "    return rows, len(input_matrix[0]), input_matrix"
   ]
  },
  {
   "cell_type": "code",
   "execution_count": null,
   "id": "b14cdbdf",
   "metadata": {},
   "outputs": [
    {
     "name": "stdout",
     "output_type": "stream",
     "text": [
      "[[3, 2, 1], [6, 5, 4], [9, 8, 7]]\n"
     ]
    }
   ],
   "source": [
    "if __name__ == '__main__':\n",
    "    rows, cols, matrix = read_matrix()\n",
    "    c1, c2 = map(int, input().split())\n",
    "\n",
    "    for row in matrix:\n",
    "        row[c1], row[c2] = row[c2], row[c1]\n",
    "\n",
    "    print(matrix)\n"
   ]
  },
  {
   "cell_type": "code",
   "execution_count": 3,
   "id": "481b24d7",
   "metadata": {},
   "outputs": [
    {
     "name": "stdout",
     "output_type": "stream",
     "text": [
      "94\n",
      "104\n"
     ]
    }
   ],
   "source": [
    "rows, cols, matrix = read_matrix()\n",
    "up_tri, low_tri = 0, 0\n",
    "\n",
    "for row in range(rows):\n",
    "    for col in range(cols):\n",
    "        if row <= col:\n",
    "            up_tri += matrix[row][col]\n",
    "\n",
    "for row in range(rows):\n",
    "    for col in range(cols):\n",
    "        if row >= col:\n",
    "            low_tri += matrix[row][col]\n",
    "\n",
    "print(low_tri)\n",
    "print(up_tri)"
   ]
  },
  {
   "cell_type": "code",
   "execution_count": 9,
   "id": "1c4d106f",
   "metadata": {},
   "outputs": [
    {
     "name": "stdout",
     "output_type": "stream",
     "text": [
      "94\n",
      "104\n"
     ]
    }
   ],
   "source": [
    "rows, cols, matrix = read_matrix()\n",
    "up_tri, low_tri = 0, 0\n",
    "\n",
    "for idx, row in enumerate(matrix):\n",
    "    low_tri += sum(row[:idx+1])\n",
    "    up_tri += sum(row[idx:])\n",
    "\n",
    "print(low_tri)\n",
    "print(up_tri)"
   ]
  },
  {
   "cell_type": "code",
   "execution_count": null,
   "id": "88da611f",
   "metadata": {},
   "outputs": [
    {
     "name": "stdout",
     "output_type": "stream",
     "text": [
      "[[1, 2, 3], [4, 5], [6]]\n"
     ]
    }
   ],
   "source": [
    "rows, cols, matrix = read_matrix()\n",
    "\n",
    "matrix = [row for row in matrix if row != []]\n",
    "print(matrix)"
   ]
  },
  {
   "cell_type": "code",
   "execution_count": 16,
   "id": "b9e16b44",
   "metadata": {},
   "outputs": [
    {
     "name": "stdout",
     "output_type": "stream",
     "text": [
      "max value at position (2,2) with value 10\n"
     ]
    }
   ],
   "source": [
    "rows, cols, matrix = read_matrix()\n",
    "max, row, col = float('-inf'), None, None\n",
    "\n",
    "for i in range(rows):\n",
    "    for j in range(cols):\n",
    "        if matrix[i][j] >= max:\n",
    "            max = matrix[i][j]\n",
    "            row = i\n",
    "            col = j\n",
    "\n",
    "print(f'max value at position ({row},{col}) with value {max}')"
   ]
  },
  {
   "cell_type": "code",
   "execution_count": 6,
   "id": "d79a9a5b",
   "metadata": {},
   "outputs": [
    {
     "name": "stdout",
     "output_type": "stream",
     "text": [
      "51\n",
      "68\n",
      "25\n",
      "104\n"
     ]
    }
   ],
   "source": [
    "def special_print(matrix):\n",
    "    lst_row_sum = sum(matrix[-1])\n",
    "    lst_col_sum = sum(row[-1] for row in matrix)\n",
    "    left_diag_sum = sum(row[idx] for idx, row in enumerate(matrix))\n",
    "    right_diag_sum = sum(row[-(idx + 1)] for idx, row in enumerate(matrix))\n",
    "\n",
    "    print(lst_row_sum)\n",
    "    print(lst_col_sum)\n",
    "    print(left_diag_sum)\n",
    "    print(right_diag_sum)\n",
    "\n",
    "rows, cols, matrix = read_matrix()\n",
    "special_print(matrix)"
   ]
  },
  {
   "cell_type": "code",
   "execution_count": null,
   "id": "fe4c08f1",
   "metadata": {},
   "outputs": [
    {
     "name": "stdout",
     "output_type": "stream",
     "text": [
      "found in col 1\n"
     ]
    }
   ],
   "source": [
    "rows, cols, matrix = read_matrix()\n",
    "item = int(input())\n",
    "\n",
    "for idx, tup in enumerate(zip(*matrix)):\n",
    "    if item in tup:\n",
    "        print(f'found in col {idx}')\n",
    "else:\n",
    "    print('not found')"
   ]
  },
  {
   "cell_type": "code",
   "execution_count": 5,
   "id": "dcc90217",
   "metadata": {},
   "outputs": [
    {
     "name": "stdout",
     "output_type": "stream",
     "text": [
      "(10, 0, 'm')\n",
      "(11, 1, 'o')\n",
      "(12, 2, 's')\n",
      "(13, 3, 't')\n",
      "(14, 4, 'a')\n"
     ]
    }
   ],
   "source": [
    "class OurZip:\n",
    "    def __init__(self, *args):\n",
    "        self.args = args\n",
    "        self.length = min(len(arg) for arg in args)\n",
    "        self.idx = 0\n",
    "    \n",
    "    def has_next(self):\n",
    "        return self.length > 0\n",
    "    \n",
    "    def next(self):\n",
    "        ret = [0] * len(self.args)\n",
    "        for idx, arg in enumerate(self.args):\n",
    "            ret[idx] = arg[self.idx]\n",
    "        self.idx += 1\n",
    "        self.length -= 1\n",
    "        return tuple(ret)\n",
    "\n",
    "if __name__ == '__main__':\n",
    "    z = OurZip(list(range(10, 15)), list(range(100)), 'mostafa')\n",
    "    while z.has_next():\n",
    "        print(z.next())"
   ]
  },
  {
   "cell_type": "code",
   "execution_count": null,
   "id": "790764fc",
   "metadata": {},
   "outputs": [
    {
     "name": "stdout",
     "output_type": "stream",
     "text": [
      "(10, 0, 'm')\n",
      "(11, 1, 'o')\n",
      "(12, 2, 's')\n",
      "(13, 3, 't')\n",
      "(14, 4, 'a')\n",
      "(None, 5, 'f')\n",
      "(None, 6, 'a')\n",
      "(None, 7, None)\n",
      "(None, 8, None)\n",
      "(None, 9, None)\n"
     ]
    }
   ],
   "source": [
    "class OurZip:\n",
    "    def __init__(self, *args):\n",
    "        self.args = args\n",
    "        self.length = max(len(arg) for arg in args)\n",
    "        self.idx = 0\n",
    "    \n",
    "    def has_next(self):\n",
    "        return self.length > 0\n",
    "    \n",
    "    def next(self):\n",
    "        ret = [0] * len(self.args)\n",
    "        for idx, arg in enumerate(self.args):\n",
    "            if len(arg) > self.idx:\n",
    "                ret[idx] = arg[self.idx]\n",
    "            else:\n",
    "                ret[idx] = None\n",
    "        \n",
    "        self.idx += 1\n",
    "        self.length -= 1\n",
    "        return tuple(ret)\n",
    "\n",
    "if __name__ == '__main__':\n",
    "    z = OurZip(list(range(10, 15)), list(range(10)), 'mostafa')\n",
    "    while z.has_next():\n",
    "        print(z.next())"
   ]
  },
  {
   "cell_type": "markdown",
   "id": "f20e99bf",
   "metadata": {},
   "source": [
    "# Med to Hard"
   ]
  },
  {
   "cell_type": "code",
   "execution_count": 1,
   "id": "e8a9275a",
   "metadata": {},
   "outputs": [
    {
     "name": "stdout",
     "output_type": "stream",
     "text": [
      "3\n",
      "3\n"
     ]
    }
   ],
   "source": [
    "def is_prime(n):\n",
    "    if n < 2:\n",
    "        return False\n",
    "    \n",
    "    for i in range(2, int(n**0.5) + 1):\n",
    "        if n % i == 0:\n",
    "            return False\n",
    "    return True\n",
    "\n",
    "matrix = [[8, 2, 9, 5], [3, 2, 27, 6], [7, 8, 29, 22]]           #read_matrix()\n",
    "is_prime_matrix = [[is_prime(value) for value in row] for row in matrix]\n",
    "q = int(input())\n",
    "\n",
    "while q > 0:\n",
    "    total_primes = 0\n",
    "    sr, sc, nr, nc = map(int, input().split())\n",
    "\n",
    "    for r in range(sr, sr + nr):\n",
    "        total_primes += sum(is_prime_matrix[r][sc: sc + nc])\n",
    "    print(total_primes)\n",
    "    q -= 1\n",
    "\n"
   ]
  },
  {
   "cell_type": "code",
   "execution_count": 2,
   "id": "0ffcee03",
   "metadata": {},
   "outputs": [],
   "source": [
    "def is_within_grid(r, c, rows, cols):\n",
    "    return 0 <= r < rows and 0 <= c < cols"
   ]
  },
  {
   "cell_type": "code",
   "execution_count": 3,
   "id": "6359cfa4",
   "metadata": {},
   "outputs": [],
   "source": [
    "def get_neibghours(i, j, rows, cols):\n",
    "    dir = [(1, 1), (1, 0), (0, 1)]\n",
    "\n",
    "    return [(r, c) for di, dj in dir if is_within_grid(r := i + di, c := j + dj, rows, cols)]"
   ]
  },
  {
   "cell_type": "code",
   "execution_count": 4,
   "id": "30d2bde9",
   "metadata": {},
   "outputs": [],
   "source": [
    "def argmax(lst):\n",
    "    return lst.index(max(lst))"
   ]
  },
  {
   "cell_type": "code",
   "execution_count": 10,
   "id": "6fb56076",
   "metadata": {},
   "outputs": [
    {
     "name": "stdout",
     "output_type": "stream",
     "text": [
      "15\n"
     ]
    }
   ],
   "source": [
    "rows, cols, matrix = read_matrix()\n",
    "r, c, total_sum = 0, 0, 0\n",
    "\n",
    "while True:\n",
    "    total_sum += matrix[r][c]\n",
    "\n",
    "    if not (positions := get_neibghours(r, c, rows, cols)):\n",
    "        break\n",
    "\n",
    "    values = [matrix[i][j] for i, j in positions]\n",
    "    r, c = positions[argmax(values)]\n",
    "print(total_sum)"
   ]
  },
  {
   "cell_type": "code",
   "execution_count": 1,
   "id": "0469bdc9",
   "metadata": {},
   "outputs": [
    {
     "name": "stdout",
     "output_type": "stream",
     "text": [
      "0 1\n",
      "2 1\n",
      "2 3\n",
      "2 3\n"
     ]
    }
   ],
   "source": [
    "rows, cols, *commands = input().split()\n",
    "rows, cols = int(rows), int(cols)\n",
    "\n",
    "rd = [-1, 0, 1, 0]\n",
    "cd = [0, 1, 0, -1]\n",
    "r, c = 0, 0\n",
    "\n",
    "while commands:\n",
    "    dir, steps, *commands = commands\n",
    "    dir = ['up', 'right', 'down', 'left'].index(dir)\n",
    "    steps = int(steps)\n",
    "\n",
    "    r = (r + rd[dir] * steps) % rows\n",
    "    c = (c + cd[dir] * steps) % cols\n",
    "    print(r, c)"
   ]
  },
  {
   "cell_type": "code",
   "execution_count": 6,
   "id": "263df06b",
   "metadata": {},
   "outputs": [],
   "source": [
    "def read_matrix_strings():\n",
    "    rows = int(input())\n",
    "    assert rows > 0\n",
    "    lst_of_lsts = [0] * rows\n",
    "\n",
    "    for row in range(rows):\n",
    "        lst_of_lsts[row] = input().split()\n",
    "    return rows, len(lst_of_lsts[0]), lst_of_lsts"
   ]
  },
  {
   "cell_type": "code",
   "execution_count": 13,
   "id": "0dec001c",
   "metadata": {},
   "outputs": [
    {
     "name": "stdout",
     "output_type": "stream",
     "text": [
      "mostafa # saad        # ibrahim     \n",
      "hey     # wooooooooow # me          \n",
      "xx      # OK          # kkkkkkkkkkkk\n"
     ]
    }
   ],
   "source": [
    "matrix = [['mostafa', 'saad', 'ibrahim'], ['hey', 'wooooooooow', 'me'], ['xx', 'OK', 'kkkkkkkkkkkk']]#read_matrix_strings()\n",
    "width_per_col = [max([len(word) for word in col]) for col in zip(*matrix)]\n",
    "\n",
    "matrix = [' # '.join([word.ljust(width_per_col[idx]) for idx, word in enumerate(row)]) for row in matrix]\n",
    "print('\\n'.join(matrix))"
   ]
  },
  {
   "cell_type": "code",
   "execution_count": 16,
   "id": "3c4b4f2e",
   "metadata": {},
   "outputs": [
    {
     "name": "stdout",
     "output_type": "stream",
     "text": [
      "1 0 0\n"
     ]
    }
   ],
   "source": [
    "if __name__ == '__main__':\n",
    "    depth, rows, cols, type, *remain = map(int, input().split())\n",
    "    db = rows * cols    # a single depth block\n",
    "    rb = cols           # a single r block (cols value)\n",
    "    cb = 1              # a single column block (single value)\n",
    "\n",
    "    if type == 1:\n",
    "        d, r, c = remain\n",
    "        idx = d * db + r * rb + c * cb\n",
    "        print(idx)\n",
    "    else:\n",
    "        idx = remain[0]\n",
    "        # r * Rb + c * 1 < Db\n",
    "        d = idx // db\n",
    "        # Remove d part, then extract r\n",
    "        r = (idx % db) // rb\n",
    "        c = (idx % db) % rb\n",
    "        print(d, r, c)"
   ]
  }
 ],
 "metadata": {
  "kernelspec": {
   "display_name": "Python 3",
   "language": "python",
   "name": "python3"
  },
  "language_info": {
   "codemirror_mode": {
    "name": "ipython",
    "version": 3
   },
   "file_extension": ".py",
   "mimetype": "text/x-python",
   "name": "python",
   "nbconvert_exporter": "python",
   "pygments_lexer": "ipython3",
   "version": "3.13.5"
  }
 },
 "nbformat": 4,
 "nbformat_minor": 5
}
