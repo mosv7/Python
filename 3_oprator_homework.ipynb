{
 "cells": [
  {
   "cell_type": "markdown",
   "id": "01927d89",
   "metadata": {},
   "source": [
    "# Logical Oprators Homework"
   ]
  },
  {
   "cell_type": "code",
   "execution_count": null,
   "id": "4b81b04a",
   "metadata": {},
   "outputs": [],
   "source": [
    "number_of_boys = int(input('Enter number of boys: '))\n",
    "number_of_girls = int(input('Enter number of girls: '))\n",
    "number_of_teacher = int(input('Enter number of teachers: '))\n",
    "\n",
    "print(number_of_boys > 25)\n",
    "print(number_of_girls <= 30)\n",
    "print((number_of_boys > 20 and number_of_teacher > 2) or (number_of_girls > 30 and number_of_teacher > 4))\n",
    "print(number_of_boys < 60 or number_of_girls < 70)\n",
    "print(not(number_of_boys >= 60 or number_of_girls >= 70))\n",
    "print(number_of_boys == number_of_girls + 10)\n",
    "print(number_of_boys - number_of_girls > 10 or number_of_teacher > 5)\n",
    "print(number_of_boys == number_of_girls + 10 or number_of_girls == number_of_boys + 15)\n"
   ]
  },
  {
   "cell_type": "markdown",
   "id": "f6be0a1b",
   "metadata": {},
   "source": [
    "| Expression | Result |\n",
    "|-----------|--------|\n",
    "| `T and T and F and T` | `False` |\n",
    "| `T and T and F and T or T and T` | `True` |\n",
    "| `T and T and T and T or T and (T or F)` | `True` |\n",
    "| `T and T and T or T and (F or (T and (T and T)))` | `True` |\n",
    "| `T and T or T and F and T or T and T and F or (T and (T or F))` | `True` |\n",
    "| `T and T or T and F and T or (T and T and F or (T and (T or F)))` | `True` |\n",
    "| `(T and T or T and F and T or T) and T and F or (T and (T or F))` | `True` |\n",
    "| `T and T or T and (F and T or T and T) and F or (T and (T or F))` | `True` |"
   ]
  },
  {
   "cell_type": "markdown",
   "id": "68076eb1",
   "metadata": {},
   "source": [
    "# Divion and Modulus Easy"
   ]
  },
  {
   "cell_type": "code",
   "execution_count": 3,
   "id": "62989203",
   "metadata": {},
   "outputs": [
    {
     "name": "stdout",
     "output_type": "stream",
     "text": [
      "3\n",
      "0.6666666666666666\n",
      "0.4444444444444444\n",
      "1.5\n"
     ]
    }
   ],
   "source": [
    "a, b, c, d, e = map(int, input().split())\n",
    "\n",
    "print((a + b + c + d + e) // 5)\n",
    "print((a + b + c) / (d + e))\n",
    "print(((a + b + c) / 3) / ((d + e) / 2))\n",
    "print(((a + b + c) / (d + e)) / (((a + b + c) / 3) / ((d + e) / 2)))"
   ]
  },
  {
   "cell_type": "code",
   "execution_count": 6,
   "id": "9b768a32",
   "metadata": {},
   "outputs": [
    {
     "name": "stdout",
     "output_type": "stream",
     "text": [
      "0.03999999999999915\n"
     ]
    }
   ],
   "source": [
    "a, b = map(float, input().split())\n",
    "\n",
    "res1 = a / b\n",
    "res2 = a // b\n",
    "res3 = res1 - res2\n",
    "\n",
    "print(res3)"
   ]
  },
  {
   "cell_type": "code",
   "execution_count": 7,
   "id": "6fba2978",
   "metadata": {},
   "outputs": [
    {
     "name": "stdout",
     "output_type": "stream",
     "text": [
      "3\n"
     ]
    }
   ],
   "source": [
    "n, m = map(int, input().split())\n",
    "\n",
    "res = n - (n // m) * m\n",
    "\n",
    "print(res)"
   ]
  },
  {
   "cell_type": "markdown",
   "id": "d4a68c66",
   "metadata": {},
   "source": [
    "# Medium"
   ]
  },
  {
   "cell_type": "code",
   "execution_count": 10,
   "id": "90aa40c0",
   "metadata": {},
   "outputs": [
    {
     "name": "stdout",
     "output_type": "stream",
     "text": [
      "True True True\n"
     ]
    }
   ],
   "source": [
    "num = int(input())\n",
    "\n",
    "is_even1 = num % 2 == 0\n",
    "\n",
    "is_even2 = (num / 2) - (num // 2) == 0\n",
    "\n",
    "last_digit = num % 10\n",
    "is_even3 = last_digit  == 0 or last_digit == 2 or last_digit == 4 or last_digit == 6 or last_digit == 8\n",
    "\n",
    "print(is_even1, is_even2, is_even3)"
   ]
  },
  {
   "cell_type": "code",
   "execution_count": 18,
   "id": "eafbcdfb",
   "metadata": {},
   "outputs": [
    {
     "name": "stdout",
     "output_type": "stream",
     "text": [
      "19\n"
     ]
    }
   ],
   "source": [
    "num = int(input())\n",
    "\n",
    "dig1 = num % 10\n",
    "num //= 10\n",
    "dig2 = num % 10\n",
    "num //= 10\n",
    "dig3 = num % 10\n",
    "\n",
    "print(dig1 + dig2 + dig3)"
   ]
  },
  {
   "cell_type": "code",
   "execution_count": 29,
   "id": "c6ec7608",
   "metadata": {},
   "outputs": [
    {
     "name": "stdout",
     "output_type": "stream",
     "text": [
      "5\n"
     ]
    }
   ],
   "source": [
    "num = int(input())\n",
    "\n",
    "num //= 1000\n",
    "num %= 10\n",
    "\n",
    "print(num)"
   ]
  },
  {
   "cell_type": "markdown",
   "id": "df05c6e4",
   "metadata": {},
   "source": [
    "# Hard"
   ]
  },
  {
   "cell_type": "code",
   "execution_count": 31,
   "id": "db0498fc",
   "metadata": {},
   "outputs": [
    {
     "name": "stdout",
     "output_type": "stream",
     "text": [
      "7\n"
     ]
    }
   ],
   "source": [
    "num = int(input())\n",
    "\n",
    "is_even = num % 2 == 0\n",
    "is_odd = not is_even\n",
    "\n",
    "print(is_even * 100 + is_odd * 7)"
   ]
  },
  {
   "cell_type": "code",
   "execution_count": 38,
   "id": "fbc83d7a",
   "metadata": {},
   "outputs": [
    {
     "name": "stdout",
     "output_type": "stream",
     "text": [
      "2 9 10\n"
     ]
    }
   ],
   "source": [
    "year = 360\n",
    "month = 30\n",
    "\n",
    "total_days = int(input())\n",
    "\n",
    "total_years = total_days // year\n",
    "remaining = total_days - year * total_years\n",
    "\n",
    "total_months = remaining // month\n",
    "remaining -= total_months * month\n",
    "\n",
    "total_days = remaining\n",
    "\n",
    "print(total_years, total_months, total_days)"
   ]
  },
  {
   "cell_type": "code",
   "execution_count": 39,
   "id": "ba1b4b79",
   "metadata": {},
   "outputs": [
    {
     "name": "stdout",
     "output_type": "stream",
     "text": [
      "2 9 10\n"
     ]
    }
   ],
   "source": [
    "days = int(input())\n",
    "\n",
    "years = days // 360\n",
    "days %= 360\n",
    "\n",
    "months = days // 30\n",
    "days %= 30\n",
    "\n",
    "print(years, months, days)"
   ]
  }
 ],
 "metadata": {
  "kernelspec": {
   "display_name": "Python 3",
   "language": "python",
   "name": "python3"
  },
  "language_info": {
   "codemirror_mode": {
    "name": "ipython",
    "version": 3
   },
   "file_extension": ".py",
   "mimetype": "text/x-python",
   "name": "python",
   "nbconvert_exporter": "python",
   "pygments_lexer": "ipython3",
   "version": "undefined.undefined.undefined"
  }
 },
 "nbformat": 4,
 "nbformat_minor": 5
}
