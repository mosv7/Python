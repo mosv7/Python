{
 "cells": [
  {
   "cell_type": "markdown",
   "id": "d04941ff",
   "metadata": {},
   "source": [
    "# Easy To Medium"
   ]
  },
  {
   "cell_type": "code",
   "execution_count": 2,
   "id": "6ffb0dab",
   "metadata": {},
   "outputs": [],
   "source": [
    "def is_palindrome(string):\n",
    "    return string == string[::-1]\n",
    "\n",
    "assert is_palindrome('madam') == True\n",
    "assert is_palindrome('11/11/11') == True\n",
    "assert is_palindrome('racecar') == True\n",
    "assert is_palindrome('12321') == True\n"
   ]
  },
  {
   "cell_type": "code",
   "execution_count": 37,
   "id": "afb0653e",
   "metadata": {},
   "outputs": [
    {
     "name": "stdout",
     "output_type": "stream",
     "text": [
      "123456789 370370367\n"
     ]
    }
   ],
   "source": [
    "def our_int(digit_sequence):\n",
    "    res = 0\n",
    "    gt = '0123456789'\n",
    "\n",
    "    for char in digit_sequence:\n",
    "        res = res * 10 + gt.find(char)\n",
    "    \n",
    "    return res\n",
    "\n",
    "digits = '0123456789'\n",
    "\n",
    "ans = our_int(digits)\n",
    "\n",
    "print(ans, ans*3)"
   ]
  },
  {
   "cell_type": "code",
   "execution_count": null,
   "id": "3616083e",
   "metadata": {},
   "outputs": [
    {
     "name": "stdout",
     "output_type": "stream",
     "text": [
      "111,222,aa,bbb\n"
     ]
    }
   ],
   "source": [
    "def groubing(string):\n",
    "    res, group_start_idx = [], 0\n",
    "\n",
    "    for idx in range(1, len(string)):\n",
    "\n",
    "        if string[idx].lower() != string[idx - 1].lower():\n",
    "            res.append(string[group_start_idx : idx])\n",
    "            group_start_idx = idx\n",
    "    \n",
    "    return ','.join(res)\n",
    "\n",
    "print(groubing('111222aabbb' + 's'))"
   ]
  },
  {
   "cell_type": "code",
   "execution_count": 16,
   "id": "91bf597b",
   "metadata": {},
   "outputs": [
    {
     "name": "stdout",
     "output_type": "stream",
     "text": [
      "adbecfghi\n"
     ]
    }
   ],
   "source": [
    "def conc_string(string):\n",
    "    st1, st2 = string.split(' ')\n",
    "    n = min(len(st1), len(st2))\n",
    "    res = ''\n",
    "\n",
    "    for idx in range(n):\n",
    "        res += st1[idx] + st2[idx]\n",
    "    \n",
    "    if len(st1) > len(st2):\n",
    "        res += st1[n:]\n",
    "    else:\n",
    "        res += st2[n:]\n",
    "    \n",
    "    return res\n",
    "\n",
    "print(conc_string('abc defghi'))"
   ]
  },
  {
   "cell_type": "code",
   "execution_count": 32,
   "id": "1bd7772c",
   "metadata": {},
   "outputs": [
    {
     "data": {
      "text/plain": [
       "'adbecfghi'"
      ]
     },
     "execution_count": 32,
     "metadata": {},
     "output_type": "execute_result"
    }
   ],
   "source": [
    "def print_conc(str1, str2):\n",
    "    for c1, c2 in zip(str1, str2):\n",
    "        print(c1 + c2, end='')\n",
    "\n",
    "    if len(str1) < len(str2):  # canonicalize: make sure first is bigger\n",
    "        str1, str2 = str2, str1\n",
    "\n",
    "    if len(str1) > len(str2):\n",
    "        print(str1[len(str2):], end='')\n",
    "\n",
    "conc_string('abc defghi')"
   ]
  },
  {
   "cell_type": "code",
   "execution_count": 33,
   "id": "4d87bdcb",
   "metadata": {},
   "outputs": [
    {
     "name": "stdout",
     "output_type": "stream",
     "text": [
      "[' apple', 'apple', 'apple', 'banana', 'student', 'student']\n"
     ]
    }
   ],
   "source": [
    "def filtering(str):\n",
    "    last_idx, res = 0, []\n",
    "    for idx, char in enumerate(str):\n",
    "        if char in ',#$':\n",
    "            val = str[last_idx : idx]\n",
    "            if val.strip():\n",
    "                res.append(val)\n",
    "            last_idx = idx + 1\n",
    "\n",
    "    part = str[last_idx:].strip()\n",
    "    if part:\n",
    "        res.append(part)\n",
    "    return sorted(res)\n",
    "\n",
    "\n",
    "string = 'apple,banana, , , apple,student### #student$$apple'\n",
    "\n",
    "print(filtering(string))"
   ]
  },
  {
   "cell_type": "code",
   "execution_count": 34,
   "id": "1d77ad79",
   "metadata": {},
   "outputs": [
    {
     "name": "stdout",
     "output_type": "stream",
     "text": [
      "['apple', 'apple', 'apple', 'banana', 'student', 'student']\n"
     ]
    }
   ],
   "source": [
    "def filtering(string):\n",
    "    return sorted(string.replace(',', ' ').replace('$', ' ').replace('#', ' ').split())\n",
    "\n",
    "string = 'apple,banana, , , apple,student### #student$$apple'\n",
    "\n",
    "print(filtering(string))"
   ]
  },
  {
   "cell_type": "code",
   "execution_count": 43,
   "id": "4808c608",
   "metadata": {},
   "outputs": [
    {
     "name": "stdout",
     "output_type": "stream",
     "text": [
      "3a_3b_3c\n",
      "2a_5b_4d_4c\n",
      "1z\n",
      "4a_2b_2c_4a\n"
     ]
    }
   ],
   "source": [
    "def compressing(string):\n",
    "    res = ''\n",
    "    for idx in range(1, len(string)):\n",
    "        if string[idx] != string[idx -1]:\n",
    "            res += str(string.count(string[idx - 1])) + string[idx - 1] + '_'\n",
    "    res += str(string.count(string[-1])) + string[-1]\n",
    "    return res\n",
    "\n",
    "string = 'aaabbbccc'\n",
    "print(compressing(string))\n",
    "string = 'aabbbbbddddcccc'\n",
    "print(compressing(string))\n",
    "string = 'z'\n",
    "print(compressing(string))\n",
    "string = 'aabbccaa'\n",
    "print(compressing(string))"
   ]
  },
  {
   "cell_type": "code",
   "execution_count": 48,
   "id": "42cf341a",
   "metadata": {},
   "outputs": [
    {
     "name": "stdout",
     "output_type": "stream",
     "text": [
      "3a_3b_3c\n"
     ]
    }
   ],
   "source": [
    "if __name__ == '__main__':\n",
    "    line ='aaabbbccc' + '$'#input() + '$'\n",
    "\n",
    "    res = []\n",
    "    group_start_idx = 0\n",
    "    for idx in range(1, len(line)):\n",
    "        if line[idx] != line[idx-1]:\n",
    "            ln = idx - group_start_idx\n",
    "            res.append( (-ln, line[idx-1]) )\n",
    "            group_start_idx = idx\n",
    "\n",
    "    res.sort()\n",
    "    for idx, (freq, char) in enumerate(res):\n",
    "        freq = -freq\n",
    "        if freq == 1:\n",
    "            res[idx] = char\n",
    "        else:\n",
    "            res[idx] = '{}{}'.format(freq, char)\n",
    "\n",
    "    print('_'.join(res))"
   ]
  },
  {
   "cell_type": "code",
   "execution_count": 5,
   "id": "5c9f4d94",
   "metadata": {},
   "outputs": [
    {
     "name": "stdout",
     "output_type": "stream",
     "text": [
      "0 ZIAD 2 0\n",
      "1 belal 10 900\n",
      "2 belal 10 6000\n",
      "3 mostafa 20 10000\n",
      "4 mostafa 33 2000\n"
     ]
    }
   ],
   "source": [
    "if __name__ == '__main__':\n",
    "    n = int(input())\n",
    "    inf = []\n",
    "    for _ in range(n):\n",
    "        name, age, salary = input().split()\n",
    "        age = int(age)\n",
    "        salary = int(salary)\n",
    "        inf.append((name, age, salary))\n",
    "    inf.sort()\n",
    "    for idx, (name, age, salary) in enumerate(inf):\n",
    "        print(idx, name, age, salary)\n"
   ]
  },
  {
   "cell_type": "code",
   "execution_count": null,
   "id": "875844d9",
   "metadata": {},
   "outputs": [],
   "source": [
    "if __name__ == '__main__':\n",
    "    n = int(input())\n",
    "    lst = [0] * n   # more efficient to allocate early\n",
    "\n",
    "    for pos in range(n):\n",
    "        name, age, salary = input().split()\n",
    "        lst[pos] = name, int(age), int(salary)    # tuple\n",
    "\n",
    "    lst.sort()  # each tuple will be compared\n",
    "    for idx, (name, age, salary) in enumerate(lst): # deep unpacking\n",
    "        print(idx, name, age, salary)"
   ]
  },
  {
   "cell_type": "code",
   "execution_count": 28,
   "id": "b03f7518",
   "metadata": {},
   "outputs": [
    {
     "name": "stdout",
     "output_type": "stream",
     "text": [
      "xbcabxad\n",
      "aaaabcabaaaaad\n",
      "bcabad\n",
      "aabcabaaad\n"
     ]
    }
   ],
   "source": [
    "def our_replace(main_str, pattern, repalce_with):\n",
    "    idx = 0\n",
    "    new_str = ''\n",
    "    n = len(pattern)\n",
    "\n",
    "    if n == 0:\n",
    "        return main_str\n",
    "\n",
    "    while idx < len(main_str):\n",
    "        substr = main_str[idx:idx + n]\n",
    "\n",
    "        if substr == pattern:\n",
    "            new_str += repalce_with\n",
    "            idx += n\n",
    "        else:\n",
    "            new_str += main_str[idx]\n",
    "            idx += 1\n",
    "\n",
    "    return new_str \n",
    "\n",
    "\n",
    "print(our_replace('aabcabaaad', 'aa', 'x'))\n",
    "print(our_replace('aabcabaaad', 'aa', 'aaaa'))\n",
    "print(our_replace('aabcabaaad', 'aa', ''))\n",
    "print(our_replace('aabcabaaad', '', 'xx'))\n"
   ]
  },
  {
   "cell_type": "code",
   "execution_count": 27,
   "id": "115a17d2",
   "metadata": {},
   "outputs": [
    {
     "name": "stdout",
     "output_type": "stream",
     "text": [
      "xbcabxad\n",
      "aaaabcabaaaaad\n",
      "bcabad\n",
      "aabcabaaad\n"
     ]
    }
   ],
   "source": [
    "def ourrep1(main_str, pattern, rep):\n",
    "    answer = []\n",
    "    idx = 0\n",
    "    n = len(pattern)\n",
    "\n",
    "    if n == 0:\n",
    "        return main_str\n",
    "\n",
    "    while idx < len(main_str) - n + 1:\n",
    "        sub = main_str[idx:idx+n]\n",
    "        if pattern == sub:\n",
    "            answer.append(rep)\n",
    "            idx += n\n",
    "        else:\n",
    "            answer.append(main_str[idx])\n",
    "            idx += 1\n",
    "\n",
    "    result = ''.join(answer)\n",
    "    if idx < len(main_str):\n",
    "        result += main_str[idx:]\n",
    "\n",
    "    return result\n",
    "\n",
    "print(ourrep1('aabcabaaad', 'aa', 'x'))\n",
    "print(ourrep1('aabcabaaad', 'aa', 'aaaa'))\n",
    "print(ourrep1('aabcabaaad', 'aa', ''))\n",
    "print(ourrep1('aabcabaaad', '', 'xx'))\n"
   ]
  },
  {
   "cell_type": "code",
   "execution_count": 25,
   "id": "40093e2c",
   "metadata": {},
   "outputs": [
    {
     "name": "stdout",
     "output_type": "stream",
     "text": [
      "xbcabxad\n",
      "aaaabcabaaaaad\n",
      "bcabad\n",
      "aabcabaaad\n"
     ]
    }
   ],
   "source": [
    "def ourrep1(main_str, pattern, rep):\n",
    "    answer = []\n",
    "    idx = 0\n",
    "    n = len(pattern)\n",
    "\n",
    "    if n == 0:\n",
    "        return main_str\n",
    "\n",
    "\n",
    "    while idx < len(main_str):\n",
    "        sub = main_str[idx:idx+n]\n",
    "        if pattern == sub:\n",
    "            answer.append(rep)\n",
    "            idx += n\n",
    "        else:\n",
    "            answer.append(main_str[idx])\n",
    "            idx += 1\n",
    "\n",
    "    result = ''.join(answer)\n",
    "\n",
    "    return result\n",
    "\n",
    "print(ourrep1('aabcabaaad', 'aa', 'x'))\n",
    "print(ourrep1('aabcabaaad', 'aa', 'aaaa'))\n",
    "print(ourrep1('aabcabaaad', 'aa', ''))\n",
    "print(ourrep1('aabcabaaad', '', 'xx'))\n"
   ]
  }
 ],
 "metadata": {
  "kernelspec": {
   "display_name": "Python 3",
   "language": "python",
   "name": "python3"
  },
  "language_info": {
   "codemirror_mode": {
    "name": "ipython",
    "version": 3
   },
   "file_extension": ".py",
   "mimetype": "text/x-python",
   "name": "python",
   "nbconvert_exporter": "python",
   "pygments_lexer": "ipython3",
   "version": "3.13.5"
  }
 },
 "nbformat": 4,
 "nbformat_minor": 5
}
