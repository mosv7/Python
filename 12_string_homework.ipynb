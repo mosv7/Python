{
 "cells": [
  {
   "cell_type": "markdown",
   "id": "d04941ff",
   "metadata": {},
   "source": [
    "# Easy To Medium"
   ]
  },
  {
   "cell_type": "code",
   "execution_count": 2,
   "id": "6ffb0dab",
   "metadata": {},
   "outputs": [],
   "source": [
    "def is_palindrome(string):\n",
    "    return string == string[::-1]\n",
    "\n",
    "assert is_palindrome('madam') == True\n",
    "assert is_palindrome('11/11/11') == True\n",
    "assert is_palindrome('racecar') == True\n",
    "assert is_palindrome('12321') == True\n"
   ]
  },
  {
   "cell_type": "code",
   "execution_count": 5,
   "id": "afb0653e",
   "metadata": {},
   "outputs": [
    {
     "name": "stdout",
     "output_type": "stream",
     "text": [
      "123456789 370370367\n"
     ]
    }
   ],
   "source": [
    "def our_int(digit_sequence):\n",
    "    res = 0\n",
    "\n",
    "    for char in digit_sequence:\n",
    "        res = res * 10 + digit_sequence.find(char)\n",
    "    \n",
    "    return res\n",
    "\n",
    "digits = '0123456789'\n",
    "\n",
    "ans = our_int(digits)\n",
    "\n",
    "print(ans, ans*3)"
   ]
  },
  {
   "cell_type": "code",
   "execution_count": 11,
   "id": "3616083e",
   "metadata": {},
   "outputs": [
    {
     "name": "stdout",
     "output_type": "stream",
     "text": [
      "111,222,aa,bbb\n"
     ]
    }
   ],
   "source": [
    "def groubing(string):\n",
    "\n",
    "    res, group_start_idx = [], 0\n",
    "    for idx in range(1, len(string)):\n",
    "        if string[idx].lower() != string[idx - 1].lower():\n",
    "            res.append(string[group_start_idx : idx])\n",
    "            group_start_idx = idx\n",
    "    \n",
    "    return ','.join(res)\n",
    "\n",
    "print(groubing('111222aabbb' + 's'))"
   ]
  },
  {
   "cell_type": "code",
   "execution_count": 16,
   "id": "91bf597b",
   "metadata": {},
   "outputs": [
    {
     "name": "stdout",
     "output_type": "stream",
     "text": [
      "adbecfghi\n"
     ]
    }
   ],
   "source": [
    "def conc_string(string):\n",
    "    st1, st2 = string.split(' ')\n",
    "    n = min(len(st1), len(st2))\n",
    "    res = ''\n",
    "\n",
    "    for idx in range(n):\n",
    "        res += st1[idx] + st2[idx]\n",
    "    \n",
    "    if len(st1) > len(st2):\n",
    "        res += st1[n:]\n",
    "    else:\n",
    "        res += st2[n:]\n",
    "    \n",
    "    return res\n",
    "\n",
    "print(conc_string('abc defghi'))"
   ]
  },
  {
   "cell_type": "code",
   "execution_count": 32,
   "id": "1bd7772c",
   "metadata": {},
   "outputs": [
    {
     "data": {
      "text/plain": [
       "'adbecfghi'"
      ]
     },
     "execution_count": 32,
     "metadata": {},
     "output_type": "execute_result"
    }
   ],
   "source": [
    "def print_conc(str1, str2):\n",
    "    for c1, c2 in zip(str1, str2):\n",
    "        print(c1 + c2, end='')\n",
    "\n",
    "    if len(str1) < len(str2):  # canonicalize: make sure first is bigger\n",
    "        str1, str2 = str2, str1\n",
    "\n",
    "    if len(str1) > len(str2):\n",
    "        print(str1[len(str2):], end='')\n",
    "\n",
    "conc_string('abc defghi')"
   ]
  },
  {
   "cell_type": "code",
   "execution_count": 33,
   "id": "4d87bdcb",
   "metadata": {},
   "outputs": [
    {
     "name": "stdout",
     "output_type": "stream",
     "text": [
      "[' apple', 'apple', 'apple', 'banana', 'student', 'student']\n"
     ]
    }
   ],
   "source": [
    "def filtering(str):\n",
    "    last_idx, res = 0, []\n",
    "    for idx, char in enumerate(str):\n",
    "        if char in ',#$':\n",
    "            val = str[last_idx : idx]\n",
    "            if val.strip():\n",
    "                res.append(val)\n",
    "            last_idx = idx + 1\n",
    "\n",
    "    part = str[last_idx:].strip()\n",
    "    if part:\n",
    "        res.append(part)\n",
    "    return sorted(res)\n",
    "\n",
    "\n",
    "string = 'apple,banana, , , apple,student### #student$$apple'\n",
    "\n",
    "print(filtering(string))"
   ]
  },
  {
   "cell_type": "code",
   "execution_count": 34,
   "id": "1d77ad79",
   "metadata": {},
   "outputs": [
    {
     "name": "stdout",
     "output_type": "stream",
     "text": [
      "['apple', 'apple', 'apple', 'banana', 'student', 'student']\n"
     ]
    }
   ],
   "source": [
    "def filtering(string):\n",
    "    return sorted(string.replace(',', ' ').replace('$', ' ').replace('#', ' ').split())\n",
    "\n",
    "string = 'apple,banana, , , apple,student### #student$$apple'\n",
    "\n",
    "print(filtering(string))"
   ]
  },
  {
   "cell_type": "code",
   "execution_count": 43,
   "id": "4808c608",
   "metadata": {},
   "outputs": [
    {
     "name": "stdout",
     "output_type": "stream",
     "text": [
      "3a_3b_3c\n",
      "2a_5b_4d_4c\n",
      "1z\n",
      "4a_2b_2c_4a\n"
     ]
    }
   ],
   "source": [
    "def compressing(string):\n",
    "    res = ''\n",
    "    for idx in range(1, len(string)):\n",
    "        if string[idx] != string[idx -1]:\n",
    "            res += str(string.count(string[idx - 1])) + string[idx - 1] + '_'\n",
    "    res += str(string.count(string[-1])) + string[-1]\n",
    "    return res\n",
    "\n",
    "string = 'aaabbbccc'\n",
    "print(compressing(string))\n",
    "string = 'aabbbbbddddcccc'\n",
    "print(compressing(string))\n",
    "string = 'z'\n",
    "print(compressing(string))\n",
    "string = 'aabbccaa'\n",
    "print(compressing(string))"
   ]
  },
  {
   "cell_type": "code",
   "execution_count": null,
   "id": "42cf341a",
   "metadata": {},
   "outputs": [],
   "source": []
  }
 ],
 "metadata": {
  "kernelspec": {
   "display_name": "Python 3",
   "language": "python",
   "name": "python3"
  },
  "language_info": {
   "codemirror_mode": {
    "name": "ipython",
    "version": 3
   },
   "file_extension": ".py",
   "mimetype": "text/x-python",
   "name": "python",
   "nbconvert_exporter": "python",
   "pygments_lexer": "ipython3",
   "version": "3.13.5"
  }
 },
 "nbformat": 4,
 "nbformat_minor": 5
}
