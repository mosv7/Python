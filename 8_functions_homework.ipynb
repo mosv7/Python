{
 "cells": [
  {
   "cell_type": "markdown",
   "id": "4baf2cab",
   "metadata": {},
   "source": [
    "# Medium"
   ]
  },
  {
   "cell_type": "code",
   "execution_count": 1,
   "id": "dc0f61b7",
   "metadata": {},
   "outputs": [
    {
     "name": "stdout",
     "output_type": "stream",
     "text": [
      "abbcccxxxxfffff\n"
     ]
    }
   ],
   "source": [
    "str = 'abcxf'\n",
    "\n",
    "def special_multiplication(string):\n",
    "    res = ''\n",
    "    for index, char in enumerate(string, start= 1):\n",
    "        res += char * (index)\n",
    "    print(res)\n",
    "\n",
    "special_multiplication(str)"
   ]
  },
  {
   "cell_type": "code",
   "execution_count": 7,
   "id": "e5f52f50",
   "metadata": {},
   "outputs": [
    {
     "name": "stdout",
     "output_type": "stream",
     "text": [
      "2\n",
      "3\n",
      "4\n",
      "5\n",
      "6\n"
     ]
    }
   ],
   "source": [
    "def my_max2(a, b):\n",
    "    if a > b:\n",
    "        return a\n",
    "    return b\n",
    "\n",
    "def my_max3(a, b, c):\n",
    "    return my_max2(my_max2(a, b), c)\n",
    "\n",
    "def my_max4(a, b, c, d):\n",
    "    return my_max2(my_max3(a, b, c), d)\n",
    "\n",
    "def my_max5(a, b, c, d, e):\n",
    "    return my_max2(my_max4(a, b, c, d), e)\n",
    "\n",
    "def my_max6(a, b, c, d, e, f):\n",
    "    return my_max2(my_max5(a, b, c, d, e), f)\n",
    "\n",
    "print(my_max2(1, 2))\n",
    "print(my_max3(1, 2, 3))\n",
    "print(my_max4(1, 2, 3, 4))\n",
    "print(my_max5(1, 2, 3, 4, 5))\n",
    "print(my_max6(1, 2, 3, 4, 5, 6))"
   ]
  },
  {
   "cell_type": "code",
   "execution_count": 3,
   "id": "c6ea6b56",
   "metadata": {},
   "outputs": [
    {
     "name": "stdout",
     "output_type": "stream",
     "text": [
      "1 2\n",
      "2 3\n",
      "3 5\n",
      "4 7\n",
      "5 11\n",
      "6 13\n",
      "7 17\n",
      "8 19\n",
      "9 23\n"
     ]
    }
   ],
   "source": [
    "def is_prime(number):\n",
    "    if number < 2:\n",
    "        return False\n",
    "    \n",
    "    for i in range(2, int(number ** 0.5) + 1):\n",
    "        if number % i == 0:\n",
    "            return False\n",
    "    return True\n",
    "\n",
    "def nth_prime(n):\n",
    "    start = 2\n",
    "    while n > 0:\n",
    "        if is_prime(start):\n",
    "            n -= 1\n",
    "            if n == 0:\n",
    "                return start\n",
    "        start += 1\n",
    "\n",
    "    return -1\n",
    "\n",
    "for i in range(1, 10):\n",
    "    print(i, nth_prime(i))"
   ]
  },
  {
   "cell_type": "code",
   "execution_count": 20,
   "id": "149ae702",
   "metadata": {},
   "outputs": [
    {
     "name": "stdout",
     "output_type": "stream",
     "text": [
      "1 0\n",
      "2 1\n",
      "3 1\n",
      "4 2\n",
      "5 3\n",
      "6 5\n",
      "7 8\n",
      "8 13\n",
      "9 21\n"
     ]
    }
   ],
   "source": [
    "def nth_fibonacci(n):\n",
    "    if n <= 1:\n",
    "        return 0\n",
    "    \n",
    "    a, b = 0, 1\n",
    "    for _ in range(3, n + 1):\n",
    "        a, b = b, a + b\n",
    "    return b\n",
    "\n",
    "for i in range(1, 10):\n",
    "    print(i, nth_fibonacci(i))"
   ]
  }
 ],
 "metadata": {
  "kernelspec": {
   "display_name": "Python 3",
   "language": "python",
   "name": "python3"
  },
  "language_info": {
   "codemirror_mode": {
    "name": "ipython",
    "version": 3
   },
   "file_extension": ".py",
   "mimetype": "text/x-python",
   "name": "python",
   "nbconvert_exporter": "python",
   "pygments_lexer": "ipython3",
   "version": "3.13.5"
  }
 },
 "nbformat": 4,
 "nbformat_minor": 5
}
