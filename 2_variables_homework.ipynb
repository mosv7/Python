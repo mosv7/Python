{
 "cells": [
  {
   "cell_type": "markdown",
   "id": "b51e6985",
   "metadata": {},
   "source": [
    "# Easy"
   ]
  },
  {
   "cell_type": "code",
   "execution_count": 4,
   "id": "18a917e0",
   "metadata": {},
   "outputs": [
    {
     "name": "stdout",
     "output_type": "stream",
     "text": [
      "6.0 + 4.0 = 10.0\n",
      "6.0 - 4.0 = 2.0\n",
      "6.0 * 4.0 = 24.0\n",
      "6.0 / 4.0 = 1.5\n"
     ]
    }
   ],
   "source": [
    "first = float(input('Enter First Number: '))\n",
    "second = float(input('Enter second Number: '))\n",
    "\n",
    "print(first, '+', second, '=', first + second)\n",
    "print(first, '-', second, '=', first - second)\n",
    "print(first, '*', second, '=', first * second)\n",
    "print(first, '/', second, '=', first / second)"
   ]
  },
  {
   "cell_type": "code",
   "execution_count": 5,
   "id": "92ded1d0",
   "metadata": {},
   "outputs": [
    {
     "name": "stdout",
     "output_type": "stream",
     "text": [
      "information for students and their \"Math\" grades\n",
      "mostafa(ID 124) got grade: 20.0\n",
      "belal(ID 455) got grade: 31.0\n",
      "Average math grade is 25.5\n"
     ]
    }
   ],
   "source": [
    "first_name = input('Enter the first student\\'s name: ')\n",
    "first_id = input('Enter the first student\\'s ID: ')\n",
    "first_grade = float(input('Enter the first student\\'s grade: '))\n",
    "\n",
    "second_name = input('Enter the second student\\'s name: ')\n",
    "second_id = input('Enter the second student\\'s ID: ')\n",
    "second_grade = float(input('Enter the second student\\'s grade: '))\n",
    "\n",
    "print('information for students and their \"Math\" grades')\n",
    "print(f'{first_name}(ID {first_id}) got grade:', first_grade)\n",
    "print(f'{second_name}(ID {second_id}) got grade:', second_grade)\n",
    "print('Average math grade is', (second_grade + first_grade)/ 2)"
   ]
  },
  {
   "cell_type": "code",
   "execution_count": 7,
   "id": "89f0ecbc",
   "metadata": {},
   "outputs": [
    {
     "name": "stdout",
     "output_type": "stream",
     "text": [
      "2 33\n"
     ]
    }
   ],
   "source": [
    "odd1, even1, odd2, even2, odd3, even3, odd4, even4 = map(int, input().split())\n",
    "\n",
    "odd_sum = odd1 + odd2 + odd3 + odd4\n",
    "even_sum = even1 + even2 + even3 + even4\n",
    "\n",
    "print(even_sum, odd_sum)"
   ]
  },
  {
   "cell_type": "code",
   "execution_count": 2,
   "id": "51eaaf2c",
   "metadata": {},
   "outputs": [
    {
     "name": "stdout",
     "output_type": "stream",
     "text": [
      "i'am\"Mostafai'am\"Mostafai'am\"Mostafai'am\"Mostafai'am\"Mostafai'am\"Mostafai'am\"Mostafai'am\"Mostafai'am\"Mostafai'am\"Mostafa\n"
     ]
    }
   ],
   "source": [
    "a = input()\n",
    "b = input()\n",
    "c = input()\n",
    "\n",
    "concat_str = a + '\\'' + b + '\"' + c\n",
    "\n",
    "print(concat_str * 10)"
   ]
  },
  {
   "cell_type": "markdown",
   "id": "b9f26149",
   "metadata": {},
   "source": [
    "# Medium"
   ]
  },
  {
   "cell_type": "code",
   "execution_count": null,
   "id": "306ac7ce",
   "metadata": {},
   "outputs": [
    {
     "name": "stdout",
     "output_type": "stream",
     "text": [
      "3\n",
      "5\n",
      "8\n",
      "13\n",
      "21\n",
      "34\n"
     ]
    }
   ],
   "source": [
    "a = 1\n",
    "b = 2\n",
    "\n",
    "c = a + b\n",
    "a = b\n",
    "b = c\n",
    "\n",
    "print(c)\n",
    "\n",
    "c = a + b\n",
    "a = b\n",
    "b = c\n",
    "\n",
    "print(c)\n",
    "\n",
    "c = a + b\n",
    "a = b\n",
    "b = c\n",
    "\n",
    "print(c)\n",
    "\n",
    "c = a + b\n",
    "a = b\n",
    "b = c\n",
    "\n",
    "print(c)\n",
    "\n",
    "c = a + b\n",
    "a = b\n",
    "b = c\n",
    "\n",
    "print(c)\n",
    "\n",
    "c = a + b\n",
    "a = b\n",
    "b = c\n",
    "\n",
    "print(c)"
   ]
  },
  {
   "cell_type": "code",
   "execution_count": null,
   "id": "4fc831b7",
   "metadata": {},
   "outputs": [
    {
     "name": "stdout",
     "output_type": "stream",
     "text": [
      "2 1\n"
     ]
    }
   ],
   "source": [
    "a, b = map(int, input().split())\n",
    "\n",
    "b, a = a, b\n",
    "\n",
    "print(a, b)"
   ]
  },
  {
   "cell_type": "markdown",
   "id": "f1774580",
   "metadata": {},
   "source": [
    "# Hard"
   ]
  },
  {
   "cell_type": "code",
   "execution_count": 3,
   "id": "a2da91fe",
   "metadata": {},
   "outputs": [
    {
     "name": "stdout",
     "output_type": "stream",
     "text": [
      "20 301 115\n"
     ]
    }
   ],
   "source": [
    "a, b, c = map(int, input().split())\n",
    "\n",
    "a, b, c = b, c, a\n",
    "\n",
    "print(a, b, c)"
   ]
  },
  {
   "cell_type": "code",
   "execution_count": 8,
   "id": "b48803e9",
   "metadata": {},
   "outputs": [
    {
     "name": "stdout",
     "output_type": "stream",
     "text": [
      "10.0\n"
     ]
    }
   ],
   "source": [
    "n = int(input())\n",
    "\n",
    "sum = (n * (n + 1)) / 2\n",
    "\n",
    "print(sum)"
   ]
  }
 ],
 "metadata": {
  "kernelspec": {
   "display_name": "Python 3",
   "language": "python",
   "name": "python3"
  },
  "language_info": {
   "codemirror_mode": {
    "name": "ipython",
    "version": 3
   },
   "file_extension": ".py",
   "mimetype": "text/x-python",
   "name": "python",
   "nbconvert_exporter": "python",
   "pygments_lexer": "ipython3",
   "version": "3.13.5"
  }
 },
 "nbformat": 4,
 "nbformat_minor": 5
}
