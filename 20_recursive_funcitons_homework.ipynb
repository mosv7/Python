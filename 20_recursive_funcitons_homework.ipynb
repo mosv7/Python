{
 "cells": [
  {
   "cell_type": "markdown",
   "id": "42b4ce67",
   "metadata": {},
   "source": [
    "# Easy To Medium"
   ]
  },
  {
   "cell_type": "code",
   "execution_count": 2,
   "id": "64eac182",
   "metadata": {},
   "outputs": [
    {
     "data": {
      "text/plain": [
       "9"
      ]
     },
     "execution_count": 2,
     "metadata": {},
     "output_type": "execute_result"
    }
   ],
   "source": [
    "def print_3n_plus_1_len(n):\n",
    "    if n == 1:\n",
    "        return 1\n",
    "    \n",
    "    if n % 2 == 0:\n",
    "        return 1 + print_3n_plus_1_len(n // 2)\n",
    "    else:\n",
    "        return 1 + print_3n_plus_1_len(3 * n + 1)\n",
    "    \n",
    "print_3n_plus_1_len(6)"
   ]
  },
  {
   "cell_type": "code",
   "execution_count": 4,
   "id": "22297373",
   "metadata": {},
   "outputs": [
    {
     "data": {
      "text/plain": [
       "343"
      ]
     },
     "execution_count": 4,
     "metadata": {},
     "output_type": "execute_result"
    }
   ],
   "source": [
    "def power(x, m):\n",
    "    if m == 0:\n",
    "        return 1\n",
    "    \n",
    "    return x * power(x, m - 1)\n",
    "\n",
    "power(7, 3)"
   ]
  },
  {
   "cell_type": "code",
   "execution_count": 5,
   "id": "007443a3",
   "metadata": {},
   "outputs": [
    {
     "name": "stdout",
     "output_type": "stream",
     "text": [
      "15\n"
     ]
    }
   ],
   "source": [
    "def list_sum(lst):\n",
    "    if lst == []:\n",
    "        return 0\n",
    "    return lst[0] + list_sum(lst[1:])\n",
    "\n",
    "print(list_sum([1, 2, 3, 4, 5]))"
   ]
  },
  {
   "cell_type": "code",
   "execution_count": 6,
   "id": "cb639940",
   "metadata": {},
   "outputs": [
    {
     "name": "stdout",
     "output_type": "stream",
     "text": [
      "15\n"
     ]
    }
   ],
   "source": [
    "def list_sum(lst):\n",
    "    if lst == []:\n",
    "        return 0\n",
    "    return lst.pop() + list_sum(lst)\n",
    "\n",
    "print(list_sum([1, 2, 3, 4, 5]))"
   ]
  },
  {
   "cell_type": "code",
   "execution_count": 32,
   "id": "5221a83b",
   "metadata": {},
   "outputs": [
    {
     "name": "stdout",
     "output_type": "stream",
     "text": [
      "5\n",
      "7\n",
      "saad\n"
     ]
    }
   ],
   "source": [
    "def list_max(lst):\n",
    "    first, *lst = lst\n",
    "\n",
    "    if not lst:\n",
    "        return first\n",
    "\n",
    "    if first > (sub := list_max(lst)):\n",
    "        return first\n",
    "\n",
    "    return sub\n",
    "\n",
    "\n",
    "if __name__ == '__main__':\n",
    "    print(list_max([5]))                            # 5\n",
    "    print(list_max([5, 7]))                         # 7\n",
    "    print(list_max(['most', 'saad', 'ibrahim']))"
   ]
  },
  {
   "cell_type": "code",
   "execution_count": 14,
   "id": "025d77b8",
   "metadata": {},
   "outputs": [
    {
     "name": "stdout",
     "output_type": "stream",
     "text": [
      "5\n",
      "saad\n"
     ]
    }
   ],
   "source": [
    "def list_max(lst):\n",
    "    if len(lst) == 1:\n",
    "        return lst[0]\n",
    "    return max(lst.pop(), list_max(lst))\n",
    "\n",
    "print(list_max([1, 2, 3, 4, 5]))\n",
    "print(list_max(['mostafa', 'saad', 'ibrahim']))"
   ]
  },
  {
   "cell_type": "code",
   "execution_count": 23,
   "id": "17939ad8",
   "metadata": {},
   "outputs": [
    {
     "name": "stdout",
     "output_type": "stream",
     "text": [
      "3.0\n"
     ]
    }
   ],
   "source": [
    "def list_avg(lst):\n",
    "    len_list = len(lst)\n",
    "    if len_list == 1:\n",
    "        return lst[0]\n",
    "    return (lst.pop() + list_avg(lst) * (len_list - 1)) / len_list\n",
    "\n",
    "print(list_avg([1, 2, 3, 4, 5]))"
   ]
  },
  {
   "cell_type": "code",
   "execution_count": 22,
   "id": "71d75fa0",
   "metadata": {},
   "outputs": [
    {
     "name": "stdout",
     "output_type": "stream",
     "text": [
      "3.0\n"
     ]
    }
   ],
   "source": [
    "def list_avg(lst):\n",
    "    if len(lst) == 1:\n",
    "        return lst[0]\n",
    "    return (lst[0] + (len(lst) - 1) * list_avg(lst[1:])) / len(lst)\n",
    "\n",
    "print(list_avg([1, 2, 3, 4, 5]))  # Works, but inefficient due to slicing"
   ]
  },
  {
   "cell_type": "code",
   "execution_count": 47,
   "id": "0cd66f7c",
   "metadata": {},
   "outputs": [
    {
     "name": "stdout",
     "output_type": "stream",
     "text": [
      "[6, 12, 5, 12, 4]\n"
     ]
    }
   ],
   "source": [
    "def list_increment(lst):\n",
    "    if len(lst) == 0:\n",
    "        return []\n",
    "    cur = lst[0] + len(lst)\n",
    "    return [cur] + list_increment(lst[1:])\n",
    "\n",
    "print(list_increment([1, 8, 2, 10, 3]))"
   ]
  },
  {
   "cell_type": "code",
   "execution_count": 33,
   "id": "c9182a80",
   "metadata": {},
   "outputs": [
    {
     "name": "stdout",
     "output_type": "stream",
     "text": [
      "[1, 3, 6, 10, 15]\n"
     ]
    }
   ],
   "source": [
    "def list_accumulation(lst):\n",
    "    if len(lst) <= 1:\n",
    "        return lst\n",
    "    \n",
    "    head = list_accumulation(lst[:-1])\n",
    "    last = head[-1] + lst[-1]\n",
    "    head.append(last)\n",
    "    return head\n",
    "\n",
    "print(list_accumulation([1, 2, 3, 4, 5]))"
   ]
  },
  {
   "cell_type": "markdown",
   "id": "06f8d836",
   "metadata": {},
   "source": [
    "# Medium To Hard"
   ]
  },
  {
   "cell_type": "code",
   "execution_count": 51,
   "id": "e5fc573e",
   "metadata": {},
   "outputs": [
    {
     "name": "stdout",
     "output_type": "stream",
     "text": [
      "[6, 12, 5, 12, 4]\n"
     ]
    }
   ],
   "source": [
    "def list_increment(lst, pos = 0):\n",
    "    if len(lst) == pos:\n",
    "        return\n",
    "    \n",
    "    lst[pos] += len(lst) - pos\n",
    "    list_increment(lst, pos + 1)\n",
    "\n",
    "lst = [1, 8, 2, 10, 3]\n",
    "list_increment(lst)\n",
    "print(lst)"
   ]
  },
  {
   "cell_type": "code",
   "execution_count": 53,
   "id": "731ff2b5",
   "metadata": {},
   "outputs": [
    {
     "data": {
      "text/plain": [
       "[1, 3, 6, 10, 15]"
      ]
     },
     "execution_count": 53,
     "metadata": {},
     "output_type": "execute_result"
    }
   ],
   "source": [
    "def list_accumulation(lst, ln = None):\n",
    "    if ln is None:\n",
    "        ln = len(lst)\n",
    "    \n",
    "    if ln <= 1:\n",
    "        return\n",
    "\n",
    "    list_accumulation(lst, ln - 1)\n",
    "    lst[ln - 1] += lst[ln - 2]\n",
    "\n",
    "lst = [1, 2, 3, 4, 5]\n",
    "list_accumulation(lst)\n",
    "lst"
   ]
  }
 ],
 "metadata": {
  "kernelspec": {
   "display_name": "Python 3",
   "language": "python",
   "name": "python3"
  },
  "language_info": {
   "codemirror_mode": {
    "name": "ipython",
    "version": 3
   },
   "file_extension": ".py",
   "mimetype": "text/x-python",
   "name": "python",
   "nbconvert_exporter": "python",
   "pygments_lexer": "ipython3",
   "version": "3.13.5"
  }
 },
 "nbformat": 4,
 "nbformat_minor": 5
}
