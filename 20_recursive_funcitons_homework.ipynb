{
 "cells": [
  {
   "cell_type": "markdown",
   "id": "42b4ce67",
   "metadata": {},
   "source": [
    "# Easy To Medium"
   ]
  },
  {
   "cell_type": "code",
   "execution_count": 31,
   "id": "64eac182",
   "metadata": {},
   "outputs": [
    {
     "data": {
      "text/plain": [
       "9"
      ]
     },
     "execution_count": 31,
     "metadata": {},
     "output_type": "execute_result"
    }
   ],
   "source": [
    "def print_3n_plus_1_len(n):\n",
    "    if n == 1:\n",
    "        return 1\n",
    "    \n",
    "    if n % 2 == 0:\n",
    "        return 1 + print_3n_plus_1_len(n // 2)\n",
    "    else:\n",
    "        return 1 + print_3n_plus_1_len(3 * n + 1)\n",
    "    \n",
    "print_3n_plus_1_len(6)"
   ]
  },
  {
   "cell_type": "code",
   "execution_count": 32,
   "id": "22297373",
   "metadata": {},
   "outputs": [
    {
     "data": {
      "text/plain": [
       "343"
      ]
     },
     "execution_count": 32,
     "metadata": {},
     "output_type": "execute_result"
    }
   ],
   "source": [
    "def power(x, m):\n",
    "    if m == 0:\n",
    "        return 1\n",
    "    \n",
    "    return x * power(x, m - 1)\n",
    "\n",
    "power(7, 3)"
   ]
  },
  {
   "cell_type": "code",
   "execution_count": 33,
   "id": "007443a3",
   "metadata": {},
   "outputs": [
    {
     "name": "stdout",
     "output_type": "stream",
     "text": [
      "15\n"
     ]
    }
   ],
   "source": [
    "def list_sum(lst):\n",
    "    if lst == []:\n",
    "        return 0\n",
    "    return lst[0] + list_sum(lst[1:])\n",
    "\n",
    "print(list_sum([1, 2, 3, 4, 5]))"
   ]
  },
  {
   "cell_type": "code",
   "execution_count": 34,
   "id": "cb639940",
   "metadata": {},
   "outputs": [
    {
     "name": "stdout",
     "output_type": "stream",
     "text": [
      "15\n"
     ]
    }
   ],
   "source": [
    "def list_sum(lst):\n",
    "    if lst == []:\n",
    "        return 0\n",
    "    return lst.pop() + list_sum(lst)\n",
    "\n",
    "print(list_sum([1, 2, 3, 4, 5]))"
   ]
  },
  {
   "cell_type": "code",
   "execution_count": 35,
   "id": "5221a83b",
   "metadata": {},
   "outputs": [
    {
     "name": "stdout",
     "output_type": "stream",
     "text": [
      "5\n",
      "7\n",
      "saad\n"
     ]
    }
   ],
   "source": [
    "def list_max(lst):\n",
    "    first, *lst = lst\n",
    "\n",
    "    if not lst:\n",
    "        return first\n",
    "\n",
    "    if first > (sub := list_max(lst)):\n",
    "        return first\n",
    "\n",
    "    return sub\n",
    "\n",
    "\n",
    "if __name__ == '__main__':\n",
    "    print(list_max([5]))                            # 5\n",
    "    print(list_max([5, 7]))                         # 7\n",
    "    print(list_max(['most', 'saad', 'ibrahim']))"
   ]
  },
  {
   "cell_type": "code",
   "execution_count": 36,
   "id": "025d77b8",
   "metadata": {},
   "outputs": [
    {
     "name": "stdout",
     "output_type": "stream",
     "text": [
      "5\n",
      "saad\n"
     ]
    }
   ],
   "source": [
    "def list_max(lst):\n",
    "    if len(lst) == 1:\n",
    "        return lst[0]\n",
    "    return max(lst.pop(), list_max(lst))\n",
    "\n",
    "print(list_max([1, 2, 3, 4, 5]))\n",
    "print(list_max(['mostafa', 'saad', 'ibrahim']))"
   ]
  },
  {
   "cell_type": "code",
   "execution_count": 37,
   "id": "17939ad8",
   "metadata": {},
   "outputs": [
    {
     "name": "stdout",
     "output_type": "stream",
     "text": [
      "3.0\n"
     ]
    }
   ],
   "source": [
    "def list_avg(lst):\n",
    "    len_list = len(lst)\n",
    "    if len_list == 1:\n",
    "        return lst[0]\n",
    "    return (lst.pop() + list_avg(lst) * (len_list - 1)) / len_list\n",
    "\n",
    "print(list_avg([1, 2, 3, 4, 5]))"
   ]
  },
  {
   "cell_type": "code",
   "execution_count": 38,
   "id": "71d75fa0",
   "metadata": {},
   "outputs": [
    {
     "name": "stdout",
     "output_type": "stream",
     "text": [
      "3.0\n"
     ]
    }
   ],
   "source": [
    "def list_avg(lst):\n",
    "    if len(lst) == 1:\n",
    "        return lst[0]\n",
    "    return (lst[0] + (len(lst) - 1) * list_avg(lst[1:])) / len(lst)\n",
    "\n",
    "print(list_avg([1, 2, 3, 4, 5]))  # Works, but inefficient due to slicing"
   ]
  },
  {
   "cell_type": "code",
   "execution_count": 39,
   "id": "0cd66f7c",
   "metadata": {},
   "outputs": [
    {
     "name": "stdout",
     "output_type": "stream",
     "text": [
      "[6, 12, 5, 12, 4]\n"
     ]
    }
   ],
   "source": [
    "def list_increment(lst):\n",
    "    if len(lst) == 0:\n",
    "        return []\n",
    "    cur = lst[0] + len(lst)\n",
    "    return [cur] + list_increment(lst[1:])\n",
    "\n",
    "print(list_increment([1, 8, 2, 10, 3]))"
   ]
  },
  {
   "cell_type": "code",
   "execution_count": 40,
   "id": "c9182a80",
   "metadata": {},
   "outputs": [
    {
     "name": "stdout",
     "output_type": "stream",
     "text": [
      "[1, 3, 6, 10, 15]\n"
     ]
    }
   ],
   "source": [
    "def list_accumulation(lst):\n",
    "    if len(lst) <= 1:\n",
    "        return lst\n",
    "    \n",
    "    head = list_accumulation(lst[:-1])\n",
    "    last = head[-1] + lst[-1]\n",
    "    head.append(last)\n",
    "    return head\n",
    "\n",
    "print(list_accumulation([1, 2, 3, 4, 5]))"
   ]
  },
  {
   "cell_type": "markdown",
   "id": "06f8d836",
   "metadata": {},
   "source": [
    "# Medium"
   ]
  },
  {
   "cell_type": "code",
   "execution_count": 41,
   "id": "e5fc573e",
   "metadata": {},
   "outputs": [
    {
     "name": "stdout",
     "output_type": "stream",
     "text": [
      "[6, 12, 5, 12, 4]\n"
     ]
    }
   ],
   "source": [
    "def list_increment(lst, pos = 0):\n",
    "    if len(lst) == pos:\n",
    "        return\n",
    "    \n",
    "    lst[pos] += len(lst) - pos\n",
    "    list_increment(lst, pos + 1)\n",
    "\n",
    "lst = [1, 8, 2, 10, 3]\n",
    "list_increment(lst)\n",
    "print(lst)"
   ]
  },
  {
   "cell_type": "code",
   "execution_count": 42,
   "id": "731ff2b5",
   "metadata": {},
   "outputs": [
    {
     "data": {
      "text/plain": [
       "[1, 3, 6, 10, 15]"
      ]
     },
     "execution_count": 42,
     "metadata": {},
     "output_type": "execute_result"
    }
   ],
   "source": [
    "def list_accumulation(lst, ln = None):\n",
    "    if ln is None:\n",
    "        ln = len(lst)\n",
    "    \n",
    "    if ln <= 1:\n",
    "        return\n",
    "\n",
    "    list_accumulation(lst, ln - 1)\n",
    "    lst[ln - 1] += lst[ln - 2]\n",
    "\n",
    "lst = [1, 2, 3, 4, 5]\n",
    "list_accumulation(lst)\n",
    "lst"
   ]
  },
  {
   "cell_type": "code",
   "execution_count": 43,
   "id": "c6c56cfa",
   "metadata": {},
   "outputs": [
    {
     "name": "stdout",
     "output_type": "stream",
     "text": [
      "[1, 3, 5, 7, 7, 7]\n"
     ]
    }
   ],
   "source": [
    "def left_max(lst):\n",
    "    if len(lst) <= 1:\n",
    "        return lst\n",
    "\n",
    "    left = left_max(lst[:-1])\n",
    "    last = lst[-1]\n",
    "    if last > left[-1]:\n",
    "        left.append(last)\n",
    "    else:\n",
    "        left.append(left[-1])\n",
    "    return left\n",
    "\n",
    "print(left_max([1, 3, 5, 7, 4, 2]))"
   ]
  },
  {
   "cell_type": "code",
   "execution_count": 44,
   "id": "004d9952",
   "metadata": {},
   "outputs": [
    {
     "name": "stdout",
     "output_type": "stream",
     "text": [
      "[1, 3, 5, 7, 7, 7]\n"
     ]
    }
   ],
   "source": [
    "def left_max(lst):\n",
    "    if len(lst) <= 1:\n",
    "        return lst\n",
    "    \n",
    "    head = left_max(lst[:-1])\n",
    "    last = max(head[-1], lst[-1])\n",
    "    head.append(last)\n",
    "    return head\n",
    "\n",
    "print(left_max([1, 3, 5, 7, 4, 2]))"
   ]
  },
  {
   "cell_type": "code",
   "execution_count": 45,
   "id": "ee5f66b5",
   "metadata": {},
   "outputs": [
    {
     "name": "stdout",
     "output_type": "stream",
     "text": [
      "[7, 7, 7, 7, 4, 2]\n"
     ]
    }
   ],
   "source": [
    "def right_max(lst):\n",
    "    if len(lst) <= 1:\n",
    "        return lst\n",
    "    \n",
    "    head = right_max(lst[1:])\n",
    "    last = max(head[0], lst[0])\n",
    "    head.insert(0, last)\n",
    "    return head\n",
    "\n",
    "print(right_max([1, 3, 5, 7, 4, 2]))\n"
   ]
  },
  {
   "cell_type": "code",
   "execution_count": 46,
   "id": "34590f25",
   "metadata": {},
   "outputs": [
    {
     "name": "stdout",
     "output_type": "stream",
     "text": [
      "True\n",
      "True\n",
      "False\n"
     ]
    }
   ],
   "source": [
    "def is_palindrome(lst):\n",
    "    if len(lst) <= 1:\n",
    "        return True\n",
    "\n",
    "    if lst[0] != lst[-1]:\n",
    "        return False\n",
    "    \n",
    "    return is_palindrome(lst[1:-1])\n",
    "\n",
    "\n",
    "print(is_palindrome([1, 2, 3, 2, 1]))  # True\n",
    "print(is_palindrome([]))  # True\n",
    "print(is_palindrome([1, 2, 3, 4, 5]))  # False\n"
   ]
  },
  {
   "cell_type": "code",
   "execution_count": 47,
   "id": "e563769a",
   "metadata": {},
   "outputs": [
    {
     "name": "stdout",
     "output_type": "stream",
     "text": [
      "True\n",
      "True\n",
      "False\n",
      "False\n",
      "True\n",
      "True\n",
      "False\n",
      "False\n",
      "True\n",
      "True\n"
     ]
    }
   ],
   "source": [
    "def starts_with(string, prefix):\n",
    "    if not string and not prefix:\n",
    "        return True\n",
    "    if not prefix:\n",
    "        return True\n",
    "    if not string:\n",
    "        return False\n",
    "    \n",
    "    if string[0] != prefix[0]:\n",
    "        return False\n",
    "    \n",
    "    return starts_with(string[1:], prefix[1:])\n",
    "\n",
    "print(starts_with(\"hello\", \"he\"))  # True\n",
    "print(starts_with(\"hello\", \"hello\"))  # True\n",
    "print(starts_with(\"hello\", \"helloo\"))  # False\n",
    "print(starts_with(\"hello\", \"world\"))  # False\n",
    "print(starts_with(\"abcdefg\", \"\"))        # True\n",
    "print(starts_with(\"abcdefg\", \"abcd\"))    # True\n",
    "print(starts_with(\"abcdefg\", \"ax\"))      # False\n",
    "print(starts_with(\"abcd\", \"abcdefg\"))    # False\n",
    "print(starts_with(\"abcd\", \"abcd\"))       # True\n",
    "print(starts_with(\"\", \"\"))               # True"
   ]
  },
  {
   "cell_type": "code",
   "execution_count": 48,
   "id": "08513ff4",
   "metadata": {},
   "outputs": [
    {
     "name": "stdout",
     "output_type": "stream",
     "text": [
      "5 4 3 2 1 \n",
      "1 2 3 4 5 "
     ]
    }
   ],
   "source": [
    "def do_something1(n):\n",
    "    if n:\n",
    "        print(n%10, end=' ')\n",
    "        do_something1(n//10)\n",
    "\n",
    "def do_something2(n):\n",
    "    if n:\n",
    "        do_something2(n//10)\n",
    "        print(n%10, end=' ')\n",
    "\n",
    "if __name__ == \"__main__\":\n",
    "    do_something1(12345)\n",
    "    print()\n",
    "    do_something2(12345)"
   ]
  },
  {
   "cell_type": "markdown",
   "id": "7d536223",
   "metadata": {},
   "source": [
    "# Medium To Hard"
   ]
  },
  {
   "cell_type": "code",
   "execution_count": 49,
   "id": "852bc5d2",
   "metadata": {},
   "outputs": [
    {
     "name": "stdout",
     "output_type": "stream",
     "text": [
      "4\n",
      "42\n"
     ]
    }
   ],
   "source": [
    "def is_prime(n, divisor = 2):\n",
    "    if n < 2:\n",
    "        return False\n",
    "    \n",
    "    if divisor * divisor > n:\n",
    "        return True\n",
    "    \n",
    "    if n % divisor == 0:\n",
    "        return False\n",
    "    return is_prime(n, divisor + 1)\n",
    "\n",
    "def count_primes(start, end):\n",
    "    if start > end:\n",
    "        return 0\n",
    "    \n",
    "    result = is_prime(start)\n",
    "    result += count_primes(start + 1, end)\n",
    "    return result\n",
    "\n",
    "print(count_primes(10, 20))\n",
    "print(count_primes(10, 200))"
   ]
  },
  {
   "cell_type": "code",
   "execution_count": 50,
   "id": "3308c8f4",
   "metadata": {},
   "outputs": [
    {
     "ename": "ValueError",
     "evalue": "invalid literal for int() with base 10: ''",
     "output_type": "error",
     "traceback": [
      "\u001b[31m---------------------------------------------------------------------------\u001b[39m",
      "\u001b[31mValueError\u001b[39m                                Traceback (most recent call last)",
      "\u001b[36mCell\u001b[39m\u001b[36m \u001b[39m\u001b[32mIn[50]\u001b[39m\u001b[32m, line 31\u001b[39m\n\u001b[32m     28\u001b[39m     total_sum += get_sum_path(matrix, r, c)\n\u001b[32m     29\u001b[39m     \u001b[38;5;28;01mreturn\u001b[39;00m total_sum\n\u001b[32m---> \u001b[39m\u001b[32m31\u001b[39m rows, cols, matrix = \u001b[43mread_matrix\u001b[49m\u001b[43m(\u001b[49m\u001b[43m)\u001b[49m\n\u001b[32m     32\u001b[39m \u001b[38;5;28mprint\u001b[39m(get_sum_path(matrix))\n",
      "\u001b[36mCell\u001b[39m\u001b[36m \u001b[39m\u001b[32mIn[50]\u001b[39m\u001b[32m, line 2\u001b[39m, in \u001b[36mread_matrix\u001b[39m\u001b[34m()\u001b[39m\n\u001b[32m      1\u001b[39m \u001b[38;5;28;01mdef\u001b[39;00m\u001b[38;5;250m \u001b[39m\u001b[34mread_matrix\u001b[39m():\n\u001b[32m----> \u001b[39m\u001b[32m2\u001b[39m     rows = \u001b[38;5;28;43mint\u001b[39;49m\u001b[43m(\u001b[49m\u001b[38;5;28;43minput\u001b[39;49m\u001b[43m(\u001b[49m\u001b[43m)\u001b[49m\u001b[43m)\u001b[49m\n\u001b[32m      3\u001b[39m     matrix = [\u001b[32m0\u001b[39m] * rows\n\u001b[32m      4\u001b[39m     \u001b[38;5;28;01mfor\u001b[39;00m row \u001b[38;5;129;01min\u001b[39;00m \u001b[38;5;28mrange\u001b[39m(rows):\n",
      "\u001b[31mValueError\u001b[39m: invalid literal for int() with base 10: ''"
     ]
    }
   ],
   "source": [
    "def read_matrix():\n",
    "    rows = int(input())\n",
    "    matrix = [0] * rows\n",
    "    for row in range(rows):\n",
    "        matrix[row] = list(map(int, input().split()))\n",
    "    return rows, len(matrix[0]), matrix\n",
    "\n",
    "def is_within_grid(r, c, rows, cols):\n",
    "    return 0 <= r < rows and 0 <= c < cols\n",
    "\n",
    "def get_neibghours(i, j, rows, cols):\n",
    "    dir = [(1, 0), (0, 1), (1, 1)]\n",
    "    return [(r, c) for di, dj in dir if is_within_grid(r := i + di, c := j + dj, rows, cols)]\n",
    "\n",
    "def argmax(lst):\n",
    "    return lst.index(max(lst))\n",
    "\n",
    "def get_sum_path(matrix, r = 0, c = 0):\n",
    "    total_sum = matrix[r][c]\n",
    "    rows, cols = len(matrix), len(matrix[0])\n",
    "\n",
    "    if not (positions := get_neibghours(r, c, rows, cols)):\n",
    "        return total_sum\n",
    "    \n",
    "    values = [matrix[i][j] for i, j in positions]\n",
    "    r, c = positions[argmax(values)]\n",
    "\n",
    "    total_sum += get_sum_path(matrix, r, c)\n",
    "    return total_sum\n",
    "\n",
    "rows, cols, matrix = read_matrix()\n",
    "print(get_sum_path(matrix))"
   ]
  },
  {
   "cell_type": "code",
   "execution_count": null,
   "id": "c0093806",
   "metadata": {},
   "outputs": [
    {
     "name": "stdout",
     "output_type": "stream",
     "text": [
      "[[5, 6], [2, 3, 4], 1]\n",
      "[[6, 5], [4, 3, 2], 1]\n",
      "[[[8, 7, 6], 5], [4, 3, 2], 1]\n",
      "[[[['hey', 9.5, 8], 7, 6], 5], [4, 3, 2], 1]\n"
     ]
    }
   ],
   "source": [
    "def deep_reverse(lst):\n",
    "    for item in lst:\n",
    "        if isinstance(item, list):\n",
    "            deep_reverse(item)\n",
    "    lst.reverse()\n",
    "\n",
    "lst = [1, [2, 3, 4], [5, 6]]\n",
    "lst.reverse()   # top level reverse ONLY\n",
    "print(lst)  # [[5, 6], [2, 3, 4], 1]\n",
    "\n",
    "lst = [1, [2, 3, 4], [5, 6]]\n",
    "deep_reverse(lst)   # reverse very deep lists\n",
    "print(lst)  # [[6, 5], [4, 3, 2], 1]\n",
    "\n",
    "lst = [1, [2, 3, 4], [5, [6, 7, 8]]]\n",
    "deep_reverse(lst)\n",
    "print(lst)  # [[[8, 7, 6], 5], [4, 3, 2], 1]\n",
    "\n",
    "lst = [1, [2, 3, 4], [5, [6, 7, [8, 9.5, 'hey']]]]\n",
    "deep_reverse(lst)\n",
    "print(lst)  # [[[['hey', 9.5, 8], 7, 6], 5], [4, 3, 2], 1]"
   ]
  },
  {
   "cell_type": "code",
   "execution_count": null,
   "id": "e41d5b61",
   "metadata": {},
   "outputs": [
    {
     "name": "stdout",
     "output_type": "stream",
     "text": [
      "[[6, 5], [4, 3, 2], 1]\n",
      "[[[8, 7, 6], 5], [4, 3, 2], 1]\n",
      "[[[['hey', 9.5, 8], 7, 6], 5], [4, 3, 2], 1]\n"
     ]
    }
   ],
   "source": [
    "def deep_reverse(lst):\n",
    "    return [deep_reverse(item) if isinstance(item, list) else item for item in reversed(lst)]\n",
    "\n",
    "lst = [1, [2, 3, 4], [5, 6]]\n",
    "print(deep_reverse(lst))   # reverse very deep lists # [[6, 5], [4, 3, 2], 1]\n",
    "\n",
    "lst = [1, [2, 3, 4], [5, [6, 7, 8]]]\n",
    "print(deep_reverse(lst))  # [[[8, 7, 6], 5], [4, 3, 2], 1]\n",
    "\n",
    "lst = [1, [2, 3, 4], [5, [6, 7, [8, 9.5, 'hey']]]]\n",
    "print(deep_reverse(lst))  # [[[['hey', 9.5, 8], 7, 6], 5], [4, 3, 2], 1]"
   ]
  },
  {
   "cell_type": "code",
   "execution_count": null,
   "id": "934aeffc",
   "metadata": {},
   "outputs": [
    {
     "name": "stdout",
     "output_type": "stream",
     "text": [
      "13\n",
      "14930352\n"
     ]
    }
   ],
   "source": [
    "def fibonacci(n):\n",
    "    if n <= 1:\n",
    "        return 1\n",
    "\n",
    "    return fibonacci(n - 1) + fibonacci(n - 2)\n",
    "\n",
    "\n",
    "print(fibonacci(6))\n",
    "print(fibonacci(35))  # 14930352\n",
    "#print(fibonacci(50))  # 12586269025"
   ]
  },
  {
   "cell_type": "code",
   "execution_count": null,
   "id": "874767cf",
   "metadata": {},
   "outputs": [
    {
     "name": "stdout",
     "output_type": "stream",
     "text": [
      "13\n",
      "14930352\n",
      "20365011074\n",
      "112102381301657019753922131204008107032943249802439891737991109609642417687024271467241971909001000928433174016012202680530522970872221529003044406006693244742562963426\n"
     ]
    }
   ],
   "source": [
    "memory = None\n",
    "\n",
    "def fibonacci(n):\n",
    "    if n <= 1:\n",
    "        return 1\n",
    "    \n",
    "    global memory\n",
    "    if memory is None:\n",
    "        memory = [-1] * (n + 1)\n",
    "    if memory[n] != -1:\n",
    "        return memory[n]\n",
    "    memory[n] = fibonacci(n - 1) + fibonacci(n - 2)\n",
    "    return memory[n]\n",
    "\n",
    "memory = None\n",
    "print(fibonacci(6))\n",
    "\n",
    "memory = None\n",
    "print(fibonacci(35))  # 14930352\n",
    "\n",
    "memory = None\n",
    "print(fibonacci(50))\n",
    "\n",
    "memory = None\n",
    "print(fibonacci(800))"
   ]
  }
 ],
 "metadata": {
  "kernelspec": {
   "display_name": "Python 3",
   "language": "python",
   "name": "python3"
  },
  "language_info": {
   "codemirror_mode": {
    "name": "ipython",
    "version": 3
   },
   "file_extension": ".py",
   "mimetype": "text/x-python",
   "name": "python",
   "nbconvert_exporter": "python",
   "pygments_lexer": "ipython3",
   "version": "3.13.5"
  }
 },
 "nbformat": 4,
 "nbformat_minor": 5
}
