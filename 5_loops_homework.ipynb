{
 "cells": [
  {
   "cell_type": "markdown",
   "id": "7f4eef30",
   "metadata": {},
   "source": [
    "# Easy while loops"
   ]
  },
  {
   "cell_type": "code",
   "execution_count": 1,
   "id": "caa84121",
   "metadata": {},
   "outputs": [
    {
     "name": "stdout",
     "output_type": "stream",
     "text": [
      "3\n",
      "4\n",
      "5\n",
      "6\n",
      "7\n"
     ]
    }
   ],
   "source": [
    "start, end = map(int, input().split())\n",
    "\n",
    "while start <= end:\n",
    "    print(start)\n",
    "    start +=1"
   ]
  },
  {
   "cell_type": "code",
   "execution_count": 3,
   "id": "861b800c",
   "metadata": {},
   "outputs": [
    {
     "name": "stdout",
     "output_type": "stream",
     "text": [
      "HiHiHiHiHi"
     ]
    }
   ],
   "source": [
    "n, s = input().split()\n",
    "n = int(n)\n",
    "\n",
    "while n >= 1:\n",
    "    print(s, end = '')\n",
    "    n -= 1"
   ]
  },
  {
   "cell_type": "code",
   "execution_count": 2,
   "id": "42a12dc6",
   "metadata": {},
   "outputs": [
    {
     "name": "stdout",
     "output_type": "stream",
     "text": [
      "**********\n",
      "*********\n",
      "********\n",
      "*******\n",
      "******\n",
      "*****\n",
      "****\n",
      "***\n",
      "**\n",
      "*\n"
     ]
    }
   ],
   "source": [
    "n = int(input())\n",
    "\n",
    "while n >= 1:\n",
    "    m = n\n",
    "    while m >= 1:\n",
    "        print('*', end = '')\n",
    "        m -= 1\n",
    "    print()\n",
    "    n -= 1"
   ]
  },
  {
   "cell_type": "code",
   "execution_count": 11,
   "id": "21b9501d",
   "metadata": {},
   "outputs": [
    {
     "name": "stdout",
     "output_type": "stream",
     "text": [
      "20.0 300.0\n"
     ]
    }
   ],
   "source": [
    "n = int(input())\n",
    "even_sum, odd_sum, odd_count, even_count = 0, 0, 0, 0\n",
    "\n",
    "cnt = 1\n",
    "while cnt <= n:\n",
    "    num = int(input())\n",
    "\n",
    "    if cnt % 2 == 1:\n",
    "        odd_sum += num\n",
    "        odd_count += 1\n",
    "    else:\n",
    "        even_sum += num\n",
    "        even_count += 1\n",
    "    cnt += 1\n",
    "\n",
    "odd_avg = (odd_sum) / odd_count\n",
    "even_avg = (even_sum) / even_count\n",
    "\n",
    "print(odd_avg, even_avg)"
   ]
  },
  {
   "cell_type": "markdown",
   "id": "9adb13a9",
   "metadata": {},
   "source": [
    "# while loop medium"
   ]
  },
  {
   "cell_type": "code",
   "execution_count": 34,
   "id": "847f41b7",
   "metadata": {},
   "outputs": [
    {
     "name": "stdout",
     "output_type": "stream",
     "text": [
      "         *\n",
      "        ***\n",
      "       *****\n",
      "      *******\n",
      "     *********\n",
      "    ***********\n",
      "   *************\n",
      "  ***************\n",
      " *****************\n",
      "*******************\n",
      "*******************\n",
      " *****************\n",
      "  ***************\n",
      "   *************\n",
      "    ***********\n",
      "     *********\n",
      "      *******\n",
      "       *****\n",
      "        ***\n",
      "         *\n"
     ]
    }
   ],
   "source": [
    "n = int(input()) #4\n",
    "\n",
    "row = 1\n",
    "\n",
    "while row <= n: # 1 <= 4\n",
    "    stars_count = 1\n",
    "    while stars_count <= n - row: # 1 <= 4 - 1 = 3\n",
    "        print(\" \", end = '')\n",
    "        stars_count += 1\n",
    "\n",
    "    stars_count = 1\n",
    "    while stars_count <= 2 * row - 1: # 1 <= 2 * 1 - 1 = 1\n",
    "        print('*', end = '')\n",
    "        stars_count += 1\n",
    "    print()\n",
    "    row +=1\n",
    "\n",
    "row = n\n",
    "while row > 0:\n",
    "    stars_count = 1\n",
    "    while stars_count <= n - row:\n",
    "        print(' ', end= '')\n",
    "        stars_count += 1\n",
    "    \n",
    "    stars_count = 1\n",
    "    while stars_count <= 2 * row - 1:\n",
    "        print('*', end = '')\n",
    "        stars_count += 1\n",
    "    print()\n",
    "    row -=1\n"
   ]
  },
  {
   "cell_type": "code",
   "execution_count": 39,
   "id": "19078030",
   "metadata": {},
   "outputs": [
    {
     "name": "stdout",
     "output_type": "stream",
     "text": [
      "0 8 12 16 24 32 36 40 48 56 60 64 72 80 84 88 96 "
     ]
    }
   ],
   "source": [
    "n = int(input())\n",
    "curr = 0\n",
    "\n",
    "while curr <= n:\n",
    "    if curr % 8 == 0 or curr % 3 == 0 and curr % 4 == 0:\n",
    "        print(curr, end=' ')\n",
    "    curr += 1"
   ]
  },
  {
   "cell_type": "code",
   "execution_count": 46,
   "id": "d7da2797",
   "metadata": {},
   "outputs": [
    {
     "name": "stdout",
     "output_type": "stream",
     "text": [
      "3 6 9 15 18 21 27 30 33 39 42 "
     ]
    }
   ],
   "source": [
    "n = int(input())\n",
    "mul = 0\n",
    "\n",
    "while 0 != n:\n",
    "    mul += 3\n",
    "    if mul % 3 == 0 and not mul % 4 == 0:\n",
    "        print(mul, end=' ')\n",
    "        n -= 1"
   ]
  },
  {
   "cell_type": "code",
   "execution_count": 1,
   "id": "364a28c4",
   "metadata": {},
   "outputs": [
    {
     "name": "stdout",
     "output_type": "stream",
     "text": [
      "min value is 4\n",
      "min value is 5\n"
     ]
    }
   ],
   "source": [
    "total_cases = int(input())\n",
    "\n",
    "while total_cases > 0:\n",
    "    cnt = int(input())\n",
    "    \n",
    "    pos, res = 0, None\n",
    "    while pos < cnt:\n",
    "        value = int(input())\n",
    "        \n",
    "        if pos == 0:\n",
    "            res = value\n",
    "        elif value < res:\n",
    "            res = value\n",
    "        pos += 1\n",
    "    print('min value is', res)\n",
    "    total_cases -= 1\n"
   ]
  },
  {
   "cell_type": "markdown",
   "id": "1d7d204e",
   "metadata": {},
   "source": [
    "# Hard"
   ]
  },
  {
   "cell_type": "code",
   "execution_count": 2,
   "id": "91709d04",
   "metadata": {},
   "outputs": [
    {
     "name": "stdout",
     "output_type": "stream",
     "text": [
      "Match: No\n",
      "Match: no\n",
      "Match: nO\n",
      "Match: ON\n",
      "Match: on\n",
      "Match: oN\n",
      "Match: On\n"
     ]
    }
   ],
   "source": [
    "n = int(input())\n",
    "\n",
    "while n > 0:\n",
    "    str = input()\n",
    "    if len(str) == 2:    \n",
    "        if ('n' in str or 'N' in str) and ('o' in str or 'O' in str):\n",
    "            print('Match:', str)\n",
    "    n -= 1\n"
   ]
  },
  {
   "cell_type": "code",
   "execution_count": 3,
   "id": "f8926cf0",
   "metadata": {},
   "outputs": [
    {
     "name": "stdout",
     "output_type": "stream",
     "text": [
      "321 963\n"
     ]
    }
   ],
   "source": [
    "num = int(input())\n",
    "reverse = 0\n",
    "while num > 0:\n",
    "    digit = num % 10\n",
    "    num //= 10\n",
    "    \n",
    "    reverse = reverse * 10 + digit\n",
    "\n",
    "print(reverse, reverse * 3)"
   ]
  },
  {
   "cell_type": "code",
   "execution_count": 4,
   "id": "5353944e",
   "metadata": {},
   "outputs": [
    {
     "name": "stdout",
     "output_type": "stream",
     "text": [
      "1 x 1 = 1\n",
      "1 x 2 = 2\n",
      "1 x 3 = 3\n",
      "1 x 4 = 4\n",
      "2 x 1 = 2\n",
      "2 x 2 = 4\n",
      "2 x 3 = 6\n",
      "2 x 4 = 8\n",
      "3 x 1 = 3\n",
      "3 x 2 = 6\n",
      "3 x 3 = 9\n",
      "3 x 4 = 12\n"
     ]
    }
   ],
   "source": [
    "n, m = map(int, input().split())\n",
    "cnt_n = 1\n",
    "while cnt_n <= n:\n",
    "    cnt_deep = 1\n",
    "    while cnt_deep <= m:\n",
    "        print(f'{cnt_n} x {cnt_deep} = {cnt_n * cnt_deep}')\n",
    "        cnt_deep += 1\n",
    "    cnt_n += 1"
   ]
  },
  {
   "cell_type": "code",
   "execution_count": 5,
   "id": "5ca7dde2",
   "metadata": {},
   "outputs": [
    {
     "name": "stdout",
     "output_type": "stream",
     "text": [
      "62\n",
      "288\n"
     ]
    }
   ],
   "source": [
    "t = int(input())\n",
    "\n",
    "while t > 0:\n",
    "    iter = int(input())\n",
    "    cnt_n, sum = 1, 0\n",
    "    \n",
    "    while cnt_n <= iter:\n",
    "        num = int(input())\n",
    "        res, cnt_deep = 1, cnt_n\n",
    "        \n",
    "        while cnt_deep > 0:\n",
    "            res *= num\n",
    "            cnt_deep -= 1\n",
    "            \n",
    "        sum += res\n",
    "        cnt_n += 1\n",
    "        \n",
    "    print(sum)\n",
    "    t -= 1"
   ]
  }
 ],
 "metadata": {
  "kernelspec": {
   "display_name": "Python 3",
   "language": "python",
   "name": "python3"
  },
  "language_info": {
   "codemirror_mode": {
    "name": "ipython",
    "version": 3
   },
   "file_extension": ".py",
   "mimetype": "text/x-python",
   "name": "python",
   "nbconvert_exporter": "python",
   "pygments_lexer": "ipython3",
   "version": "3.13.5"
  }
 },
 "nbformat": 4,
 "nbformat_minor": 5
}
