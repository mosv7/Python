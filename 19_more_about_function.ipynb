{
 "cells": [
  {
   "cell_type": "markdown",
   "id": "9c90265b",
   "metadata": {},
   "source": [
    "# Medium to Hard"
   ]
  },
  {
   "cell_type": "code",
   "execution_count": 1,
   "id": "f4c057bc",
   "metadata": {},
   "outputs": [
    {
     "name": "stdout",
     "output_type": "stream",
     "text": [
      "[0, 2, 4, 6, 8]\n"
     ]
    }
   ],
   "source": [
    "def is_even(n):\n",
    "    return n % 2 == 0\n",
    "\n",
    "def myfilter(func, iterable):\n",
    "    return [item for item in iterable if func(item)]\n",
    "\n",
    "print(myfilter(is_even, range(10)))"
   ]
  },
  {
   "cell_type": "code",
   "execution_count": 2,
   "id": "84e1d6d5",
   "metadata": {},
   "outputs": [
    {
     "name": "stdout",
     "output_type": "stream",
     "text": [
      "20\n",
      "20\n"
     ]
    }
   ],
   "source": [
    "def myreduce(func, iterable, init = None):\n",
    "    if not iterable:\n",
    "        if init is None:\n",
    "            raise TypeError('reduce of empty sequence with no initial value')\n",
    "        return init\n",
    "    \n",
    "    for item in iterable:\n",
    "        if init is None:\n",
    "            init = item\n",
    "        else:\n",
    "            init = func(init, item)\n",
    "    return init\n",
    "\n",
    "print(myreduce(max, {7, 20, 10}))\n",
    "print(myreduce(lambda a, b: a if a > b else b, {7, 20, 10}))"
   ]
  },
  {
   "cell_type": "code",
   "execution_count": 3,
   "id": "8cebf4ed",
   "metadata": {},
   "outputs": [
    {
     "name": "stdout",
     "output_type": "stream",
     "text": [
      "735\n"
     ]
    }
   ],
   "source": [
    "def myreducev2(func_overall, func_consective, itrable):\n",
    "    try:\n",
    "        frist, second, *itrable = itrable\n",
    "        res = func_consective(frist, second)\n",
    "    except:\n",
    "        return RuntimeError('The length of the sequence must be at least 2')\n",
    "    \n",
    "    while itrable:\n",
    "        try:\n",
    "            frist, second, *itrable = itrable\n",
    "        except:\n",
    "            return RuntimeError('The length of the sequence must be even')\n",
    "        res = func_overall(res, func_consective(frist, second))\n",
    "    return res\n",
    "\n",
    "print(myreducev2(lambda a, b: a * b, lambda a, b: a + b, [2, 5, 3, 4, 5, 10]))"
   ]
  },
  {
   "cell_type": "code",
   "execution_count": 5,
   "id": "0924b93e",
   "metadata": {},
   "outputs": [
    {
     "name": "stdout",
     "output_type": "stream",
     "text": [
      "[16, 50, 180, 126]\n"
     ]
    }
   ],
   "source": [
    "def mymap(func, *iterable):\n",
    "    return [func(*tup) for tup in zip(*iterable)]\n",
    "\n",
    "def multi_abs(a, b, c):\n",
    "    return abs(a) * abs(b) * abs(c)\n",
    "\n",
    "res = mymap(multi_abs, [1, -2, 3, 2], [-4, 5, 6, 7], [4, -5, -10, 9, 11])\n",
    "\n",
    "print(res) "
   ]
  },
  {
   "cell_type": "code",
   "execution_count": 6,
   "id": "d7d319e0",
   "metadata": {},
   "outputs": [
    {
     "name": "stdout",
     "output_type": "stream",
     "text": [
      "[4, 9, 16, 25]\n"
     ]
    }
   ],
   "source": [
    "sq = lambda x: x ** 2\n",
    "\n",
    "def ff(st, en, step):\n",
    "    def inner(f):\n",
    "        return [f(x) for x in range(st, en, step)]\n",
    "    return inner\n",
    "\n",
    "processor = ff(2, 6, 1)\n",
    "print(processor(sq))"
   ]
  },
  {
   "cell_type": "code",
   "execution_count": 7,
   "id": "b4ea43e2",
   "metadata": {},
   "outputs": [
    {
     "name": "stdout",
     "output_type": "stream",
     "text": [
      "[25, 16, 9, 4]\n"
     ]
    }
   ],
   "source": [
    "ff = lambda st, en, step: lambda f: [f(x) for x in range(st, en, step)]\n",
    "processor = ff(5, 1, -1)\n",
    "print(processor(sq))"
   ]
  }
 ],
 "metadata": {
  "kernelspec": {
   "display_name": "Python 3",
   "language": "python",
   "name": "python3"
  },
  "language_info": {
   "codemirror_mode": {
    "name": "ipython",
    "version": 3
   },
   "file_extension": ".py",
   "mimetype": "text/x-python",
   "name": "python",
   "nbconvert_exporter": "python",
   "pygments_lexer": "ipython3",
   "version": "3.13.5"
  }
 },
 "nbformat": 4,
 "nbformat_minor": 5
}
